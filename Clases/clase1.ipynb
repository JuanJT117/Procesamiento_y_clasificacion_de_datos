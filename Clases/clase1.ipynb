{
 "cells": [
  {
   "cell_type": "markdown",
   "metadata": {},
   "source": [
    "# Sesión 1 Analiss de texto\n",
    "## Introduccion\n",
    "\n",
    "### definicion de análisis de texto\n",
    "\n",
    "El analis de texto es una rama de la ciencia de datos que se centra en la extraccion util y sisgnificativa a pártir de datos de texto no estructurados, es decir no presentan una estructura de diseño y suelen ser datos cualitativos, conjuntos de datos apilados.\n",
    "\n",
    "### Importancia del analisis de Texto\n",
    "\n",
    "Permite tener conocimiento apartir de grandes volumenes de texto, como redes solciales, libros, blogs, paginas web, documentos empresariales, correos electronicos, permitiendo la automatizacion de tareas como son la clasificacion de documentos, el analisis de sentimiento y la extraccion de informacion, como datos estadisticos los cules pueden verse como patrones de escritura o personalizacion de estilos de redaccion.\n",
    "\n",
    "### Aplicacion del Analisis de Texto \n",
    "\n",
    "#### Aplicacones principales\n",
    "    \n",
    "-   Clasificacion de documentos.\n",
    "-   Analisis de sentimiento.\n",
    "-   Extraccion de informacion.\n",
    "-   Generacioin de resumenes automaticos.\n",
    "-   Traduiccion automatica.\n",
    "-   Chatbots y asistentes virtuales.\n",
    "\n",
    "#### Ejemplos de casos de uso\n",
    "\n",
    "1.  Analisis de opiniones en redes sociales para entender la percepcion del cliente.\n",
    "\n",
    "2.  Alanisis de discursos politicos: contraposicioin de discursos busqueda de congruencia y contradicciones en discursos.\n",
    "\n",
    "3.  clasificaciopn de correos electronicos cono spam o no spam.\n",
    "\n",
    "4.  extraccion de entidades (nombres, lugares, fechas) de documentos legales.\n",
    "\n",
    "5.  Análisis de textos periodísticos: Se emplea una técnica conocida como las cinco “W” del periodismo (Who,What, When, Where, Why) para desglosar noticias y artículos. Se evalúa la estructura, el tono, las fuentes y la veracidad de la información.\n",
    "\n",
    "6.  Análisis de textos literarios: Se estudian obras literarias como novelas, poemas o cuentos. Se analizan elementos como la trama, los personajes, el estilo del autor y los temas subyacentes.\n",
    "\n",
    "7.  Análisis de textos históricos: Se investigan documentos antiguos, cartas, diarios y registros históricos. Se busca comprender el contexto, las intenciones del autor y las implicaciones históricas.\n",
    "\n",
    "8.  Análisis de textos científicos: Se examinan artículos académicos, investigaciones y publicaciones científicas. Se evalúa la metodología, los resultados y las conclusiones.\n",
    "\n",
    "9.  Análisis de textos argumentativos: Se descompone un texto en sus partes constituyentes: introducción, desarrollo y conclusión. Se identifican las afirmaciones, las evidencias y la lógica utilizada por el autor.\n",
    "\n",
    "10. Interpretación de figuras retóricas: Se analizan metáforas, hipérboles, ironías y otras figuras literarias presentes en el texto.\n",
    "    \n",
    "11. Interpretación de datos estadísticos: Se extraen conclusiones a partir de datos numéricos presentados en el texto.\n",
    "\n",
    "### Componentes del analisis de Texto\n",
    "\n",
    "#### Preprocesamiento de Texto\n",
    "\n",
    "-   Limpieza de datos: elikminacion de signos de puntuación, números, palabras vacías (stopwords).\n",
    "    \n",
    "-   Tokenizacion: dividir el texto en unidades mas pequeñas (tokens).\n",
    "\n",
    "#### Representccion de Texto\n",
    "\n",
    "\n",
    "-   Tablas y Gráficos:\n",
    "    1. Tablas: Organizan datos en filas y columnas. Pueden mostrar frecuencias, categorías o resúmenes estadísticos.\n",
    "    2.  Gráficos: Representan visualmente patrones y tendencias. Ejemplos incluyen gráficos de barras, líneas, pastel y dispersión.\n",
    "\n",
    "-   Word Clouds (Nubes de palabras): Visualizan las palabras más frecuentes en un texto. El tamaño de cada palabra refleja su importancia.\n",
    "\n",
    "-   Histogramas de Frecuencia: Muestran la distribución de palabras según su frecuencia. Útiles para analizar vocabulario.\n",
    "\n",
    "-   Redes Semánticas: Representan relaciones entre palabras o conceptos. Pueden ser útiles para explorar temas o conexiones.\n",
    "\n",
    "-   Análisis de Sentimiento: Asigna polaridad (positiva, negativa o neutra) a fragmentos de texto. Útil para evaluar opiniones.\n",
    "\n",
    "-   Visualización de Entidades Nominadas: Muestra nombres de personas, lugares, organizaciones, etc., identificados en el texto.\n",
    "\n",
    "-   Mapas de Calor (Heatmaps): Resaltan áreas de interés en un texto. Por ejemplo, las palabras más mencionadas en diferentes secciones.\n",
    "\n",
    "-   Análisis de Coocurrencia: Examina qué palabras aparecen juntas con mayor frecuencia. Puede ayudar a identificar asociaciones.\n",
    "\n",
    "-   Representación de Secuencias: Visualiza la estructura de oraciones o párrafos. Útil para análisis gramatical.\n",
    "\n",
    "-   Resúmenes Textuales: Sintetizan los hallazgos clave en un formato conciso."
   ]
  },
  {
   "cell_type": "markdown",
   "metadata": {},
   "source": [
    "## Instalacion de librerias"
   ]
  },
  {
   "cell_type": "code",
   "execution_count": 213,
   "metadata": {},
   "outputs": [],
   "source": [
    "#https://git.com/raduangelescu/gutenbergpy\n",
    "#!pip install gutenbergpy"
   ]
  },
  {
   "cell_type": "code",
   "execution_count": 214,
   "metadata": {},
   "outputs": [],
   "source": [
    "# The Natural Language Toolkit (NLTK) is a Python package for natural\n",
    "# language processing. NLTK requires Python 3.7, 3.8, 3.9, 3.10 or 3.11.\n",
    "#pip install nltk"
   ]
  },
  {
   "cell_type": "markdown",
   "metadata": {},
   "source": [
    "## Obtencion de datos"
   ]
  },
  {
   "cell_type": "markdown",
   "metadata": {},
   "source": [
    "Importamos la libreria de gutenberg para extraer texto libre directo de la pagina web donde se encuentran alojados"
   ]
  },
  {
   "cell_type": "code",
   "execution_count": 215,
   "metadata": {},
   "outputs": [],
   "source": [
    "import gutenbergpy.textget"
   ]
  },
  {
   "cell_type": "markdown",
   "metadata": {},
   "source": [
    "Generamos una foncion apartir de la cual llamaremos al libro o texto, esta funcion nos descarga dos veces el mismo libro, el primero contiene encabezados y el segundo no incluye los encabezados o headers"
   ]
  },
  {
   "cell_type": "code",
   "execution_count": 216,
   "metadata": {},
   "outputs": [],
   "source": [
    "# Vamos a crear una funcion para llamar al libro empleando el id que tiene asignado\n",
    "def obtener_libro(id = 2701):\n",
    "    raw_book = gutenbergpy.textget.get_text_by_id(id) # with headers\n",
    "    clean_book = gutenbergpy.textget.strip_headers(raw_book) # without headers\n",
    "    return clean_book, raw_book"
   ]
  },
  {
   "cell_type": "markdown",
   "metadata": {},
   "source": [
    "## Preprocesamiento\n",
    "\n",
    "En esta seccion prepararemos los datos para poder ser trabajados o analizados.\n",
    "\n",
    "Identificamos el libro descargado con y sin headers\n",
    "\n",
    "-   libro_limpio = sin headers\n",
    "-   libro = con headeers"
   ]
  },
  {
   "cell_type": "code",
   "execution_count": 217,
   "metadata": {},
   "outputs": [],
   "source": [
    "libro_limpio, libro = obtener_libro()"
   ]
  },
  {
   "cell_type": "code",
   "execution_count": 218,
   "metadata": {},
   "outputs": [
    {
     "data": {
      "text/plain": [
       "b'The Project Gutenberg eBook of Moby-Dick; or The Whale, by Herman Melville\\r\\n\\r\\nThis eBook is for the use of anyone anywhere in the United States and\\r\\nmost other parts of the world at no cost and with almost no restrictions\\r\\nwhatsoever. You may copy it, give it away or re-use it under the terms\\r\\nof the Project Gutenberg License included with this eBook or online at\\r\\nwww.gutenberg.org. If you are not located in the United States, you\\r\\nwill have to check the laws of the country where you are located before\\r\\nusing this eBook.\\r\\n\\r\\nTitle: Moby-Dick; or The Whale\\r\\n\\r\\nAuthor: Herman Melville\\r\\n\\r\\nRelease Date: June, 2001 [eBook #2701]\\r\\n[Most recently updated: August 18, 2021]\\r\\n\\r\\nLanguage: English\\r\\n\\r\\nCharacter set encoding: UTF-8\\r\\n\\r\\nProduced by: Daniel Lazarus, Jonesey, and David Widger\\r\\n\\r\\n*** START OF THE PROJECT GUTENBERG EBOOK MOBY-DICK; OR THE WHALE ***\\r\\n\\r\\n\\r\\n\\r\\n\\r\\nMOBY-DICK;\\r\\n\\r\\nor, THE WHALE.\\r\\n\\r\\nBy Herman Melville\\r\\n\\r\\n\\r\\n\\r\\nCONTENTS\\r\\n\\r\\nETYMOLOGY.\\r\\n\\r\\nEXTRACTS (Supplied by a Sub-Sub-Librarian).\\r\\n\\r\\nCHAPTER 1. Loomings.\\r\\n\\r\\nCHAPTER 2. The Carpet-Bag.\\r\\n\\r\\nCHAPTER 3. The Spouter-Inn.\\r\\n\\r\\nCHAPTER 4. The Counterpane.\\r\\n\\r\\nCHAPTER 5. Breakfast.\\r\\n\\r\\nCHAPTER 6. The Street.\\r\\n\\r\\nCHAPTER 7. The Chapel.\\r\\n\\r\\nCHAPTER 8. The Pulpit.\\r\\n\\r\\nCHAPTER 9. The Sermon.\\r\\n\\r\\nCHAPTER 10. A Bosom Friend.\\r\\n\\r\\nCHAPTER 11. Nightgown.\\r\\n\\r\\nCHAPTER 12. Biographical.\\r\\n\\r\\nCHAPTER 13. Wheelbarrow.\\r\\n\\r\\nCHAPTER 14. Nantucket.\\r\\n\\r\\nCHAPTER 15. Chowder.\\r\\n\\r\\nCHAPTER 16. The Ship.\\r\\n\\r\\nCHAPTER 17. The Ramadan.\\r\\n\\r\\nCHAPTER 18. His Mark.\\r\\n\\r\\nCHAPTER 19. The Prophet.\\r\\n\\r\\nCHAPTER 20. All Astir.\\r\\n\\r\\nCHAPTER 21. Going Aboard.\\r\\n\\r\\nCHAPTER 22. Merry Christmas.\\r\\n\\r\\nCHAPTER 23. The Lee Shore.\\r\\n\\r\\nCHAPTER 24. The Advocate.\\r\\n\\r\\nCHAPTER 25. Postscript.\\r\\n\\r\\nCHAPTER 26. Knights and Squires.\\r\\n\\r\\nCHAPTER 27. Knights and Squires.\\r\\n\\r\\nCHAPTER 28. Ahab.\\r\\n\\r\\nCHAPTER 29. Enter Ahab; to Him, Stubb.\\r\\n\\r\\nCHAPTER 30. The Pipe.\\r\\n\\r\\nCHAPTER 31. Queen Mab.\\r\\n\\r\\nCHAPTER 32. Cetology.\\r\\n\\r\\nCHAPTER 33. The Specksnyder.\\r\\n\\r\\nCHAPTER 34. The Cabin-Table.\\r\\n\\r\\nCHAPTER 35. The Mast-Head.\\r\\n\\r\\nCHAPTER 36.'"
      ]
     },
     "execution_count": 218,
     "metadata": {},
     "output_type": "execute_result"
    }
   ],
   "source": [
    "libro[0:2000]"
   ]
  },
  {
   "cell_type": "code",
   "execution_count": 219,
   "metadata": {},
   "outputs": [
    {
     "data": {
      "text/plain": [
       "b'\\r\\n\\r\\n\\r\\n\\r\\nMOBY-DICK;\\r\\n\\r\\nor, THE WHALE.\\r\\n\\r\\nBy Herman Melville\\r\\n\\r\\n\\r\\n\\r\\nCONTENTS\\r\\n\\r\\nETYMOLOGY.\\r\\n\\r\\nEXTRACTS (Supplied by a Sub-Sub-Librarian).\\r\\n\\r\\nCHAPTER 1. Loomings.\\r\\n\\r\\nCHAPTER 2. The Carpet-Bag.\\r\\n\\r\\nCHAPTER 3. The Spouter-Inn.\\r\\n\\r\\nCHAPTER 4. The Counterpane.\\r\\n\\r\\nCHAPTER 5. Breakfast.\\r\\n\\r\\nCHAPTER 6. The Street.\\r\\n\\r\\nCHAPTER 7. The Chapel.\\r\\n\\r\\nCHAPTER 8. The Pulpit.\\r\\n\\r\\nCHAPTER 9. The Sermon.\\r\\n\\r\\nCHAPTER 10. A Bosom Friend.\\r\\n\\r\\nCHAPTER 11. Nightgown.\\r\\n\\r\\nCHAPTER 12. Biographical.\\r\\n\\r\\nCHAPTER 13. Wheelbarrow.\\r\\n\\r\\nCHAPTER 14. Nantucket.\\r\\n\\r\\nCHAPTER 15. Chowder.\\r\\n\\r\\nCHAPTER 16. The Ship.\\r\\n\\r\\nCHAPTER 17. The Ramadan.\\r\\n\\r\\nCHAPTER 18. His Mark.\\r\\n\\r\\nCHAPTER 19. The Prophet.\\r\\n\\r\\nCHAPTER 20. All Astir.\\r\\n\\r\\nCHAPTER 21. Going Aboard.\\r\\n\\r\\nCHAPTER 22. Merry Christmas.\\r\\n\\r\\nCHAPTER 23. The Lee Shore.\\r\\n\\r\\nCHAPTER 24. The Advocate.\\r\\n\\r\\nCHAPTER 25. Postscript.\\r\\n\\r\\nCHAPTER 26. Knights and Squires.\\r\\n\\r\\nCHAPTER 27. Knights and Squires.\\r\\n\\r\\nCHAPTER 28. Ahab.\\r\\n\\r\\nCHAPTER 29. Enter Ahab; to Him, Stubb.\\r\\n\\r\\nCHAPTER 30. The Pipe.\\r\\n\\r\\nCHAPTER 31. Q'"
      ]
     },
     "execution_count": 219,
     "metadata": {},
     "output_type": "execute_result"
    }
   ],
   "source": [
    "libro_limpio[:1000]"
   ]
  },
  {
   "cell_type": "markdown",
   "metadata": {},
   "source": [
    "Para poder trabajar con el contenido (las palabras) es importante tener la informacion en un formato que facilite la labor por lo tanto tenemos que identificar el tipo dato es el que esta representado el texto es importante considerar el tipo de archivo para poder tener un formato para poder analizar el contenido, pasaremos de bytes a string."
   ]
  },
  {
   "cell_type": "code",
   "execution_count": 220,
   "metadata": {},
   "outputs": [
    {
     "name": "stdout",
     "output_type": "stream",
     "text": [
      "<class 'bytes'>\n",
      "<class 'str'>\n"
     ]
    },
    {
     "data": {
      "text/plain": [
       "'\\r\\n\\r\\n\\r\\n\\r\\nMOBY-DICK;\\r\\n'"
      ]
     },
     "execution_count": 220,
     "metadata": {},
     "output_type": "execute_result"
    }
   ],
   "source": [
    "\n",
    "print(type(libro_limpio))\n",
    "str_libro = libro_limpio.decode()\n",
    "print(type(str_libro))\n",
    "str_libro[:20]"
   ]
  },
  {
   "cell_type": "markdown",
   "metadata": {},
   "source": [
    "#### Definicion de unidad de analisis, parrafo.\n",
    "Realizaremos un split en los datos, para poder clasificarlos por **parrafos** ya que nos interesa analizar el texto en esta proporcion de la informacion, aunque puede ser por palabras, por fraces etc., por lo que el split se realiza entorno a \"\\n\" que dentro de los datos represetna un salto de linea entre parrafos"
   ]
  },
  {
   "cell_type": "code",
   "execution_count": 221,
   "metadata": {},
   "outputs": [
    {
     "data": {
      "text/plain": [
       "['\\r',\n",
       " '\\r',\n",
       " '\\r',\n",
       " '\\r',\n",
       " 'MOBY-DICK;\\r',\n",
       " '\\r',\n",
       " 'or, THE WHALE.\\r',\n",
       " '\\r',\n",
       " 'By Herman Melville\\r',\n",
       " '\\r',\n",
       " '\\r',\n",
       " '\\r',\n",
       " 'CONTENTS\\r',\n",
       " '\\r',\n",
       " 'ETYMOLOGY.\\r',\n",
       " '\\r',\n",
       " 'EXTRACTS (Supplied by a Sub-Sub-Librarian).\\r',\n",
       " '\\r',\n",
       " 'CHAPTER 1. Loomings.\\r',\n",
       " '\\r']"
      ]
     },
     "execution_count": 221,
     "metadata": {},
     "output_type": "execute_result"
    }
   ],
   "source": [
    "list_libro = str_libro.split(\"\\n\")\n",
    "list_libro[:20]"
   ]
  },
  {
   "cell_type": "markdown",
   "metadata": {},
   "source": [
    "Filtraremos los espacios en blanco o nulos que se en cuentran el el texto."
   ]
  },
  {
   "cell_type": "code",
   "execution_count": 222,
   "metadata": {},
   "outputs": [
    {
     "data": {
      "text/plain": [
       "['\\r',\n",
       " '\\r',\n",
       " '\\r',\n",
       " '\\r',\n",
       " 'MOBY-DICK;\\r',\n",
       " '\\r',\n",
       " 'or, THE WHALE.\\r',\n",
       " '\\r',\n",
       " 'By Herman Melville\\r',\n",
       " '\\r',\n",
       " '\\r',\n",
       " '\\r',\n",
       " 'CONTENTS\\r',\n",
       " '\\r',\n",
       " 'ETYMOLOGY.\\r',\n",
       " '\\r',\n",
       " 'EXTRACTS (Supplied by a Sub-Sub-Librarian).\\r',\n",
       " '\\r',\n",
       " 'CHAPTER 1. Loomings.\\r',\n",
       " '\\r']"
      ]
     },
     "execution_count": 222,
     "metadata": {},
     "output_type": "execute_result"
    }
   ],
   "source": [
    "libro_filitrado = list(filter(None, list_libro))\n",
    "libro_filitrado[:20]"
   ]
  },
  {
   "cell_type": "markdown",
   "metadata": {},
   "source": [
    "Imtortamos las sigueintes librerias, en caso de no tenerla instalada recurrimos al confiable \"pip install nltk\". apartir de estas librerias podremos tokenizar las palabras y trabajar con estas, ya sea invididualmente o en palabras."
   ]
  },
  {
   "cell_type": "code",
   "execution_count": 261,
   "metadata": {},
   "outputs": [
    {
     "name": "stderr",
     "output_type": "stream",
     "text": [
      "[nltk_data] Downloading package stopwords to\n",
      "[nltk_data]     C:\\Users\\juanj\\AppData\\Roaming\\nltk_data...\n",
      "[nltk_data]   Package stopwords is already up-to-date!\n",
      "[nltk_data] Downloading package punkt to\n",
      "[nltk_data]     C:\\Users\\juanj\\AppData\\Roaming\\nltk_data...\n",
      "[nltk_data]   Package punkt is already up-to-date!\n"
     ]
    },
    {
     "data": {
      "text/plain": [
       "True"
      ]
     },
     "execution_count": 261,
     "metadata": {},
     "output_type": "execute_result"
    }
   ],
   "source": [
    "import re\n",
    "import nltk\n",
    "from nltk.corpus import stopwords\n",
    "from nltk.tokenize import word_tokenize\n",
    "\n",
    "from nltk.stem.snowball import SnowballStemmer\n",
    "\n",
    "nltk.download('stopwords')\n",
    "nltk.download('punkt')"
   ]
  },
  {
   "cell_type": "markdown",
   "metadata": {},
   "source": [
    "##### **N-Gramas**"
   ]
  },
  {
   "cell_type": "code",
   "execution_count": 266,
   "metadata": {},
   "outputs": [
    {
     "name": "stdout",
     "output_type": "stream",
     "text": [
      "['\\r', '\\r']\n",
      "['\\r', '\\r']\n",
      "['\\r', '\\r']\n",
      "['\\r', 'MOBY-DICK;\\r']\n",
      "['MOBY-DICK;\\r', '\\r']\n",
      "['\\r', 'or, THE WHALE.\\r']\n",
      "['or, THE WHALE.\\r', '\\r']\n",
      "['\\r', 'By Herman Melville\\r']\n",
      "['By Herman Melville\\r', '\\r']\n",
      "['\\r', '\\r']\n",
      "['\\r', '\\r']\n",
      "['\\r', 'CONTENTS\\r']\n",
      "['CONTENTS\\r', '\\r']\n",
      "['\\r', 'ETYMOLOGY.\\r']\n",
      "['ETYMOLOGY.\\r', '\\r']\n",
      "['\\r', 'EXTRACTS (Supplied by a Sub-Sub-Librarian).\\r']\n",
      "['EXTRACTS (Supplied by a Sub-Sub-Librarian).\\r', '\\r']\n",
      "['\\r', 'CHAPTER 1. Loomings.\\r']\n",
      "['CHAPTER 1. Loomings.\\r', '\\r']\n",
      "['\\r', 'CHAPTER 2. The Carpet-Bag.\\r']\n",
      "['CHAPTER 2. The Carpet-Bag.\\r', '\\r']\n",
      "['\\r', 'CHAPTER 3. The Spouter-Inn.\\r']\n",
      "['CHAPTER 3. The Spouter-Inn.\\r', '\\r']\n",
      "['\\r', 'CHAPTER 4. The Counterpane.\\r']\n",
      "['CHAPTER 4. The Counterpane.\\r', '\\r']\n",
      "['\\r', 'CHAPTER 5. Breakfast.\\r']\n",
      "['CHAPTER 5. Breakfast.\\r', '\\r']\n",
      "['\\r', 'CHAPTER 6. The Street.\\r']\n",
      "['CHAPTER 6. The Street.\\r', '\\r']\n",
      "['\\r', 'CHAPTER 7. The Chapel.\\r']\n",
      "['CHAPTER 7. The Chapel.\\r', '\\r']\n",
      "['\\r', 'CHAPTER 8. The Pulpit.\\r']\n",
      "['CHAPTER 8. The Pulpit.\\r', '\\r']\n",
      "['\\r', 'CHAPTER 9. The Sermon.\\r']\n",
      "['CHAPTER 9. The Sermon.\\r', '\\r']\n",
      "['\\r', 'CHAPTER 10. A Bosom Friend.\\r']\n",
      "['CHAPTER 10. A Bosom Friend.\\r', '\\r']\n",
      "['\\r', 'CHAPTER 11. Nightgown.\\r']\n",
      "['CHAPTER 11. Nightgown.\\r', '\\r']\n",
      "['\\r', 'CHAPTER 12. Biographical.\\r']\n",
      "['CHAPTER 12. Biographical.\\r', '\\r']\n",
      "['\\r', 'CHAPTER 13. Wheelbarrow.\\r']\n",
      "['CHAPTER 13. Wheelbarrow.\\r', '\\r']\n",
      "['\\r', 'CHAPTER 14. Nantucket.\\r']\n",
      "['CHAPTER 14. Nantucket.\\r', '\\r']\n",
      "['\\r', 'CHAPTER 15. Chowder.\\r']\n",
      "['CHAPTER 15. Chowder.\\r', '\\r']\n",
      "['\\r', 'CHAPTER 16. The Ship.\\r']\n",
      "['CHAPTER 16. The Ship.\\r', '\\r']\n",
      "['\\r', 'CHAPTER 17. The Ramadan.\\r']\n",
      "['CHAPTER 17. The Ramadan.\\r', '\\r']\n",
      "['\\r', 'CHAPTER 18. His Mark.\\r']\n",
      "['CHAPTER 18. His Mark.\\r', '\\r']\n",
      "['\\r', 'CHAPTER 19. The Prophet.\\r']\n",
      "['CHAPTER 19. The Prophet.\\r', '\\r']\n",
      "['\\r', 'CHAPTER 20. All Astir.\\r']\n",
      "['CHAPTER 20. All Astir.\\r', '\\r']\n",
      "['\\r', 'CHAPTER 21. Going Aboard.\\r']\n",
      "['CHAPTER 21. Going Aboard.\\r', '\\r']\n",
      "['\\r', 'CHAPTER 22. Merry Christmas.\\r']\n",
      "['CHAPTER 22. Merry Christmas.\\r', '\\r']\n",
      "['\\r', 'CHAPTER 23. The Lee Shore.\\r']\n",
      "['CHAPTER 23. The Lee Shore.\\r', '\\r']\n",
      "['\\r', 'CHAPTER 24. The Advocate.\\r']\n",
      "['CHAPTER 24. The Advocate.\\r', '\\r']\n",
      "['\\r', 'CHAPTER 25. Postscript.\\r']\n",
      "['CHAPTER 25. Postscript.\\r', '\\r']\n",
      "['\\r', 'CHAPTER 26. Knights and Squires.\\r']\n",
      "['CHAPTER 26. Knights and Squires.\\r', '\\r']\n",
      "['\\r', 'CHAPTER 27. Knights and Squires.\\r']\n",
      "['CHAPTER 27. Knights and Squires.\\r', '\\r']\n",
      "['\\r', 'CHAPTER 28. Ahab.\\r']\n",
      "['CHAPTER 28. Ahab.\\r', '\\r']\n",
      "['\\r', 'CHAPTER 29. Enter Ahab; to Him, Stubb.\\r']\n",
      "['CHAPTER 29. Enter Ahab; to Him, Stubb.\\r', '\\r']\n",
      "['\\r', 'CHAPTER 30. The Pipe.\\r']\n",
      "['CHAPTER 30. The Pipe.\\r', '\\r']\n",
      "['\\r', 'CHAPTER 31. Queen Mab.\\r']\n",
      "['CHAPTER 31. Queen Mab.\\r', '\\r']\n",
      "['\\r', 'CHAPTER 32. Cetology.\\r']\n",
      "['CHAPTER 32. Cetology.\\r', '\\r']\n",
      "['\\r', 'CHAPTER 33. The Specksnyder.\\r']\n",
      "['CHAPTER 33. The Specksnyder.\\r', '\\r']\n",
      "['\\r', 'CHAPTER 34. The Cabin-Table.\\r']\n",
      "['CHAPTER 34. The Cabin-Table.\\r', '\\r']\n",
      "['\\r', 'CHAPTER 35. The Mast-Head.\\r']\n",
      "['CHAPTER 35. The Mast-Head.\\r', '\\r']\n",
      "['\\r', 'CHAPTER 36. The Quarter-Deck.\\r']\n",
      "['CHAPTER 36. The Quarter-Deck.\\r', '\\r']\n",
      "['\\r', 'CHAPTER 37. Sunset.\\r']\n",
      "['CHAPTER 37. Sunset.\\r', '\\r']\n",
      "['\\r', 'CHAPTER 38. Dusk.\\r']\n",
      "['CHAPTER 38. Dusk.\\r', '\\r']\n",
      "['\\r', 'CHAPTER 39. First Night-Watch.\\r']\n",
      "['CHAPTER 39. First Night-Watch.\\r', '\\r']\n",
      "['\\r', 'CHAPTER 40. Midnight, Forecastle.\\r']\n",
      "['CHAPTER 40. Midnight, Forecastle.\\r', '\\r']\n",
      "['\\r', 'CHAPTER 41. Moby Dick.\\r']\n",
      "['CHAPTER 41. Moby Dick.\\r', '\\r']\n",
      "['\\r', 'CHAPTER 42. The Whiteness of the Whale.\\r']\n",
      "['CHAPTER 42. The Whiteness of the Whale.\\r', '\\r']\n",
      "['\\r', 'CHAPTER 43. Hark!\\r']\n",
      "['CHAPTER 43. Hark!\\r', '\\r']\n",
      "['\\r', 'CHAPTER 44. The Chart.\\r']\n",
      "['CHAPTER 44. The Chart.\\r', '\\r']\n",
      "['\\r', 'CHAPTER 45. The Affidavit.\\r']\n",
      "['CHAPTER 45. The Affidavit.\\r', '\\r']\n",
      "['\\r', 'CHAPTER 46. Surmises.\\r']\n",
      "['CHAPTER 46. Surmises.\\r', '\\r']\n",
      "['\\r', 'CHAPTER 47. The Mat-Maker.\\r']\n",
      "['CHAPTER 47. The Mat-Maker.\\r', '\\r']\n",
      "['\\r', 'CHAPTER 48. The First Lowering.\\r']\n",
      "['CHAPTER 48. The First Lowering.\\r', '\\r']\n",
      "['\\r', 'CHAPTER 49. The Hyena.\\r']\n",
      "['CHAPTER 49. The Hyena.\\r', '\\r']\n",
      "['\\r', 'CHAPTER 50. Ahab’s Boat and Crew. Fedallah.\\r']\n",
      "['CHAPTER 50. Ahab’s Boat and Crew. Fedallah.\\r', '\\r']\n",
      "['\\r', 'CHAPTER 51. The Spirit-Spout.\\r']\n",
      "['CHAPTER 51. The Spirit-Spout.\\r', '\\r']\n",
      "['\\r', 'CHAPTER 52. The Albatross.\\r']\n",
      "['CHAPTER 52. The Albatross.\\r', '\\r']\n",
      "['\\r', 'CHAPTER 53. The Gam.\\r']\n",
      "['CHAPTER 53. The Gam.\\r', '\\r']\n",
      "['\\r', 'CHAPTER 54. The Town-Ho’s Story.\\r']\n",
      "['CHAPTER 54. The Town-Ho’s Story.\\r', '\\r']\n",
      "['\\r', 'CHAPTER 55. Of the Monstrous Pictures of Whales.\\r']\n",
      "['CHAPTER 55. Of the Monstrous Pictures of Whales.\\r', '\\r']\n",
      "['\\r', 'CHAPTER 56. Of the Less Erroneous Pictures of Whales, and the True\\r']\n",
      "['CHAPTER 56. Of the Less Erroneous Pictures of Whales, and the True\\r', 'Pictures of Whaling Scenes.\\r']\n",
      "['Pictures of Whaling Scenes.\\r', '\\r']\n",
      "['\\r', 'CHAPTER 57. Of Whales in Paint; in Teeth; in Wood; in Sheet-Iron; in\\r']\n",
      "['CHAPTER 57. Of Whales in Paint; in Teeth; in Wood; in Sheet-Iron; in\\r', 'Stone; in Mountains; in Stars.\\r']\n",
      "['Stone; in Mountains; in Stars.\\r', '\\r']\n",
      "['\\r', 'CHAPTER 58. Brit.\\r']\n",
      "['CHAPTER 58. Brit.\\r', '\\r']\n",
      "['\\r', 'CHAPTER 59. Squid.\\r']\n",
      "['CHAPTER 59. Squid.\\r', '\\r']\n",
      "['\\r', 'CHAPTER 60. The Line.\\r']\n",
      "['CHAPTER 60. The Line.\\r', '\\r']\n",
      "['\\r', 'CHAPTER 61. Stubb Kills a Whale.\\r']\n",
      "['CHAPTER 61. Stubb Kills a Whale.\\r', '\\r']\n",
      "['\\r', 'CHAPTER 62. The Dart.\\r']\n",
      "['CHAPTER 62. The Dart.\\r', '\\r']\n",
      "['\\r', 'CHAPTER 63. The Crotch.\\r']\n",
      "['CHAPTER 63. The Crotch.\\r', '\\r']\n",
      "['\\r', 'CHAPTER 64. Stubb’s Supper.\\r']\n",
      "['CHAPTER 64. Stubb’s Supper.\\r', '\\r']\n",
      "['\\r', 'CHAPTER 65. The Whale as a Dish.\\r']\n",
      "['CHAPTER 65. The Whale as a Dish.\\r', '\\r']\n",
      "['\\r', 'CHAPTER 66. The Shark Massacre.\\r']\n",
      "['CHAPTER 66. The Shark Massacre.\\r', '\\r']\n",
      "['\\r', 'CHAPTER 67. Cutting In.\\r']\n",
      "['CHAPTER 67. Cutting In.\\r', '\\r']\n",
      "['\\r', 'CHAPTER 68. The Blanket.\\r']\n",
      "['CHAPTER 68. The Blanket.\\r', '\\r']\n",
      "['\\r', 'CHAPTER 69. The Funeral.\\r']\n",
      "['CHAPTER 69. The Funeral.\\r', '\\r']\n",
      "['\\r', 'CHAPTER 70. The Sphynx.\\r']\n",
      "['CHAPTER 70. The Sphynx.\\r', '\\r']\n",
      "['\\r', 'CHAPTER 71. The Jeroboam’s Story.\\r']\n",
      "['CHAPTER 71. The Jeroboam’s Story.\\r', '\\r']\n",
      "['\\r', 'CHAPTER 72. The Monkey-Rope.\\r']\n",
      "['CHAPTER 72. The Monkey-Rope.\\r', '\\r']\n",
      "['\\r', 'CHAPTER 73. Stubb and Flask kill a Right Whale; and Then Have a Talk\\r']\n",
      "['CHAPTER 73. Stubb and Flask kill a Right Whale; and Then Have a Talk\\r', 'over Him.\\r']\n",
      "['over Him.\\r', '\\r']\n",
      "['\\r', 'CHAPTER 74. The Sperm Whale’s Head—Contrasted View.\\r']\n",
      "['CHAPTER 74. The Sperm Whale’s Head—Contrasted View.\\r', '\\r']\n",
      "['\\r', 'CHAPTER 75. The Right Whale’s Head—Contrasted View.\\r']\n",
      "['CHAPTER 75. The Right Whale’s Head—Contrasted View.\\r', '\\r']\n",
      "['\\r', 'CHAPTER 76. The Battering-Ram.\\r']\n",
      "['CHAPTER 76. The Battering-Ram.\\r', '\\r']\n",
      "['\\r', 'CHAPTER 77. The Great Heidelburgh Tun.\\r']\n",
      "['CHAPTER 77. The Great Heidelburgh Tun.\\r', '\\r']\n",
      "['\\r', 'CHAPTER 78. Cistern and Buckets.\\r']\n",
      "['CHAPTER 78. Cistern and Buckets.\\r', '\\r']\n",
      "['\\r', 'CHAPTER 79. The Prairie.\\r']\n",
      "['CHAPTER 79. The Prairie.\\r', '\\r']\n",
      "['\\r', 'CHAPTER 80. The Nut.\\r']\n",
      "['CHAPTER 80. The Nut.\\r', '\\r']\n",
      "['\\r', 'CHAPTER 81. The Pequod Meets The Virgin.\\r']\n",
      "['CHAPTER 81. The Pequod Meets The Virgin.\\r', '\\r']\n",
      "['\\r', 'CHAPTER 82. The Honor and Glory of Whaling.\\r']\n",
      "['CHAPTER 82. The Honor and Glory of Whaling.\\r', '\\r']\n",
      "['\\r', 'CHAPTER 83. Jonah Historically Regarded.\\r']\n",
      "['CHAPTER 83. Jonah Historically Regarded.\\r', '\\r']\n",
      "['\\r', 'CHAPTER 84. Pitchpoling.\\r']\n",
      "['CHAPTER 84. Pitchpoling.\\r', '\\r']\n",
      "['\\r', 'CHAPTER 85. The Fountain.\\r']\n",
      "['CHAPTER 85. The Fountain.\\r', '\\r']\n",
      "['\\r', 'CHAPTER 86. The Tail.\\r']\n",
      "['CHAPTER 86. The Tail.\\r', '\\r']\n",
      "['\\r', 'CHAPTER 87. The Grand Armada.\\r']\n",
      "['CHAPTER 87. The Grand Armada.\\r', '\\r']\n",
      "['\\r', 'CHAPTER 88. Schools and Schoolmasters.\\r']\n",
      "['CHAPTER 88. Schools and Schoolmasters.\\r', '\\r']\n",
      "['\\r', 'CHAPTER 89. Fast-Fish and Loose-Fish.\\r']\n",
      "['CHAPTER 89. Fast-Fish and Loose-Fish.\\r', '\\r']\n",
      "['\\r', 'CHAPTER 90. Heads or Tails.\\r']\n"
     ]
    }
   ],
   "source": [
    "from nltk import ngrams\n",
    "\n",
    "frase = libro_filitrado[:200]\n",
    "\n",
    "n = 2 # un bigrama\n",
    "bigramas = [frase[i:i+n] for i in range(len(frase) - n +1)]  #ngrams(frase.split(), n)\n",
    "for gramas in bigramas: print(gramas)"
   ]
  },
  {
   "cell_type": "markdown",
   "metadata": {},
   "source": [
    "### Procesamiento de texto"
   ]
  },
  {
   "cell_type": "markdown",
   "metadata": {},
   "source": [
    "####                Ejemplo             ####\n",
    "Realizaremos un ejemplo rapido de la implementacion de las librerias llamadas.\n",
    "\n",
    "1.  eliminaremos signos de puntuacion y convertiremos todo a minusculas, por convencion."
   ]
  },
  {
   "cell_type": "code",
   "execution_count": 224,
   "metadata": {},
   "outputs": [
    {
     "data": {
      "text/plain": [
       "'estó es un ejemplo de preprocesamiento de texto en pyton'"
      ]
     },
     "execution_count": 224,
     "metadata": {},
     "output_type": "execute_result"
    }
   ],
   "source": [
    "texto = \"Estó es un ejemplo de preprocesamiento de texto, en Pyton\"\n",
    "\n",
    "texto_limpio = re.sub(r'[^\\w\\s]', '', texto.lower())\n",
    "texto_limpio"
   ]
  },
  {
   "cell_type": "markdown",
   "metadata": {},
   "source": [
    "2.  Elimininaremos las stopwords o palabras vacias, los cuales son términos que se filtran durante o después del procesamiento de los datos en lenguaje natural, preferentemente en la etapa de preprocesado.\n",
    "\n",
    "Las Stopwords son consideradas irrelevantes para el análisis de texto, ya que no aportan información significativa por sí solas.\n",
    "\n",
    "Algunos ejemplos de Stop Words en español son: “ante”, “antes”, “aún”, “aunque”, “aquí”, “arriba”, “atrás”, “así”, “bajo”, “bastante”, “cabe”, “conmigo”, “bien”, “casi”, “cierto”, “como”, “debajo”, “ahí”, “ajeno”, “algo”, “algún”, “ambos”, \"aquello\", “el”, “la”, “y”, “o”, etc.\n",
    "\n",
    "Es importante mencionar que el uso de Stop Words puede variar según el contexto y el objetivo del análisis. Algunas herramientas de procesamiento de texto y motores de búsqueda tienen listas predefinidas de Stop Words, y es posible personalizar estas listas según las necesidades específicas de cada proyecto.\n",
    "\n",
    "Para poder filtrar las palabras emplearemos una fuente de stopwords que esta integrada en las librerias llamadas, la cual emplearemos de filtro."
   ]
  },
  {
   "cell_type": "code",
   "execution_count": 225,
   "metadata": {},
   "outputs": [
    {
     "data": {
      "text/plain": [
       "['habrá',\n",
       " 'antes',\n",
       " 'ni',\n",
       " 'fuerais',\n",
       " 'tenidos',\n",
       " 'hubiésemos',\n",
       " 'tenida',\n",
       " 'estaba',\n",
       " 'tuviese',\n",
       " 'os',\n",
       " 'está',\n",
       " 'hubieras',\n",
       " 'estuvierais',\n",
       " 'tuvieron',\n",
       " 'hubieran',\n",
       " 'ellas',\n",
       " 'tengamos',\n",
       " 'tuvo',\n",
       " 'estadas',\n",
       " 'estéis']"
      ]
     },
     "execution_count": 225,
     "metadata": {},
     "output_type": "execute_result"
    }
   ],
   "source": [
    "stop_words = set(stopwords.words('spanish'))\n",
    "list(stop_words)[:20]"
   ]
  },
  {
   "cell_type": "code",
   "execution_count": 226,
   "metadata": {},
   "outputs": [
    {
     "data": {
      "text/plain": [
       "['estó',\n",
       " 'es',\n",
       " 'un',\n",
       " 'ejemplo',\n",
       " 'de',\n",
       " 'preprocesamiento',\n",
       " 'de',\n",
       " 'texto',\n",
       " 'en',\n",
       " 'pyton']"
      ]
     },
     "execution_count": 226,
     "metadata": {},
     "output_type": "execute_result"
    }
   ],
   "source": [
    "tokens = word_tokenize(texto_limpio)\n",
    "tokens"
   ]
  },
  {
   "cell_type": "code",
   "execution_count": 227,
   "metadata": {},
   "outputs": [
    {
     "name": "stdout",
     "output_type": "stream",
     "text": [
      "['estó', 'ejemplo', 'preprocesamiento', 'texto', 'pyton']\n"
     ]
    }
   ],
   "source": [
    "texto_filtrado = [word for word in tokens if word not in stop_words]\n",
    "print(texto_filtrado)"
   ]
  },
  {
   "cell_type": "markdown",
   "metadata": {},
   "source": [
    "#### Procesamiento del libro\n",
    "generaremos una funcion para realizar la tokenizacion y filtrado el texto eliminando las stopwords"
   ]
  },
  {
   "cell_type": "code",
   "execution_count": 228,
   "metadata": {},
   "outputs": [],
   "source": [
    "#def tokens(txt):\n",
    "#    texto_limpio = re.sub(r'[^\\w\\s]', '', txt.lower())\n",
    "\n",
    "#    stop_words = set(stopwords.words('english'))\n",
    "#    tokens = word_tokenize(texto_limpio)\n",
    "\n",
    "#    texto_filtrado = [word for word in tokens if word not in stop_words]\n",
    "#    return texto_filtrado"
   ]
  },
  {
   "cell_type": "markdown",
   "metadata": {},
   "source": [
    "##### se agrega el filtrado de las **desidencias** o **Stemmers** en el texto"
   ]
  },
  {
   "cell_type": "code",
   "execution_count": 244,
   "metadata": {},
   "outputs": [],
   "source": [
    "def tokens(txt):\n",
    "    texto_limpio = re.sub(r'[^\\w\\s]', '', txt.lower())\n",
    "\n",
    "    stop_words = set(stopwords.words('english'))\n",
    "    tokens = word_tokenize(texto_limpio)\n",
    "\n",
    "    stemmer = SnowballStemmer('english') # filtrado de Stemmer /desidencia\n",
    "    texto_filtrado = [stemmer.stem(word) for word in tokens if word not in stop_words]\n",
    "    return texto_filtrado"
   ]
  },
  {
   "cell_type": "markdown",
   "metadata": {},
   "source": [
    "Función map(): La función map() en Python toma dos o más argumentos: una función y uno o más iterables, en este caso, la función tokens y el iterable libro_filitrado. map() aplica la función a todos los elementos del iterable y devuelve un objeto map.\n",
    "\n",
    "list(): Finalmente, la función list() convierte el objeto map resultante en una lista. Esto es útil porque los objetos map son iteradores y no se pueden reutilizar. Al convertir el resultado en una lista, puedes acceder a los datos tantas veces como quieras."
   ]
  },
  {
   "cell_type": "code",
   "execution_count": 245,
   "metadata": {},
   "outputs": [],
   "source": [
    "map_libro = list(map(tokens, libro_filitrado))"
   ]
  },
  {
   "cell_type": "markdown",
   "metadata": {},
   "source": [
    "una ves mapreado y almacenado en una lista podemos consultar los valores dentro del libro que en este caso son las palabras."
   ]
  },
  {
   "cell_type": "code",
   "execution_count": 246,
   "metadata": {},
   "outputs": [
    {
     "data": {
      "text/plain": [
       "[[],\n",
       " ['chapter', '67', 'cut'],\n",
       " [],\n",
       " ['chapter', '68', 'blanket'],\n",
       " [],\n",
       " ['chapter', '69', 'funer'],\n",
       " [],\n",
       " ['chapter', '70', 'sphynx'],\n",
       " [],\n",
       " ['chapter', '71', 'jeroboam', 'stori'],\n",
       " [],\n",
       " ['chapter', '72', 'monkeyrop'],\n",
       " [],\n",
       " ['chapter', '73', 'stubb', 'flask', 'kill', 'right', 'whale', 'talk'],\n",
       " [],\n",
       " [],\n",
       " ['chapter', '74', 'sperm', 'whale', 'headcontrast', 'view'],\n",
       " [],\n",
       " ['chapter', '75', 'right', 'whale', 'headcontrast', 'view'],\n",
       " [],\n",
       " ['chapter', '76', 'batteringram'],\n",
       " [],\n",
       " ['chapter', '77', 'great', 'heidelburgh', 'tun'],\n",
       " [],\n",
       " ['chapter', '78', 'cistern', 'bucket'],\n",
       " [],\n",
       " ['chapter', '79', 'prairi'],\n",
       " [],\n",
       " ['chapter', '80', 'nut'],\n",
       " [],\n",
       " ['chapter', '81', 'pequod', 'meet', 'virgin'],\n",
       " [],\n",
       " ['chapter', '82', 'honor', 'glori', 'whale'],\n",
       " [],\n",
       " ['chapter', '83', 'jonah', 'histor', 'regard'],\n",
       " [],\n",
       " ['chapter', '84', 'pitchpol'],\n",
       " [],\n",
       " ['chapter', '85', 'fountain'],\n",
       " [],\n",
       " ['chapter', '86', 'tail'],\n",
       " [],\n",
       " ['chapter', '87', 'grand', 'armada'],\n",
       " [],\n",
       " ['chapter', '88', 'school', 'schoolmast'],\n",
       " [],\n",
       " ['chapter', '89', 'fastfish', 'loosefish'],\n",
       " [],\n",
       " ['chapter', '90', 'head', 'tail'],\n",
       " [],\n",
       " ['chapter', '91', 'pequod', 'meet', 'rosebud'],\n",
       " [],\n",
       " ['chapter', '92', 'ambergri'],\n",
       " [],\n",
       " ['chapter', '93', 'castaway'],\n",
       " [],\n",
       " ['chapter', '94', 'squeez', 'hand'],\n",
       " [],\n",
       " ['chapter', '95', 'cassock'],\n",
       " [],\n",
       " ['chapter', '96', 'trywork'],\n",
       " [],\n",
       " ['chapter', '97', 'lamp'],\n",
       " [],\n",
       " ['chapter', '98', 'stow', 'clear'],\n",
       " [],\n",
       " ['chapter', '99', 'doubloon'],\n",
       " [],\n",
       " ['chapter', '100', 'leg', 'arm'],\n",
       " [],\n",
       " ['chapter', '101', 'decant'],\n",
       " [],\n",
       " ['chapter', '102', 'bower', 'arsacid'],\n",
       " [],\n",
       " ['chapter', '103', 'measur', 'whale', 'skeleton'],\n",
       " [],\n",
       " ['chapter', '104', 'fossil', 'whale'],\n",
       " [],\n",
       " ['chapter', '105', 'whale', 'magnitud', 'diminishwil', 'perish'],\n",
       " [],\n",
       " ['chapter', '106', 'ahab', 'leg'],\n",
       " [],\n",
       " ['chapter', '107', 'carpent'],\n",
       " [],\n",
       " ['chapter', '108', 'ahab', 'carpent'],\n",
       " [],\n",
       " ['chapter', '109', 'ahab', 'starbuck', 'cabin'],\n",
       " [],\n",
       " ['chapter', '110', 'queequeg', 'coffin'],\n",
       " [],\n",
       " ['chapter', '111', 'pacif'],\n",
       " [],\n",
       " ['chapter', '112', 'blacksmith'],\n",
       " [],\n",
       " ['chapter', '113', 'forg'],\n",
       " [],\n",
       " ['chapter', '114', 'gilder'],\n",
       " [],\n",
       " ['chapter', '115', 'pequod', 'meet', 'bachelor'],\n",
       " [],\n",
       " ['chapter', '116', 'die', 'whale'],\n",
       " [],\n",
       " ['chapter', '117', 'whale', 'watch'],\n",
       " [],\n",
       " ['chapter', '118', 'quadrant'],\n",
       " [],\n",
       " ['chapter', '119', 'candl'],\n",
       " [],\n",
       " ['chapter', '120', 'deck', 'toward', 'end', 'first', 'night', 'watch'],\n",
       " [],\n",
       " ['chapter', '121', 'midnightth', 'forecastl', 'bulwark'],\n",
       " [],\n",
       " ['chapter', '122', 'midnight', 'aloftthund', 'lightn'],\n",
       " [],\n",
       " ['chapter', '123', 'musket'],\n",
       " [],\n",
       " ['chapter', '124', 'needl'],\n",
       " [],\n",
       " ['chapter', '125', 'log', 'line'],\n",
       " [],\n",
       " ['chapter', '126', 'lifebuoy'],\n",
       " [],\n",
       " ['chapter', '127', 'deck'],\n",
       " [],\n",
       " ['chapter', '128', 'pequod', 'meet', 'rachel'],\n",
       " [],\n",
       " ['chapter', '129', 'cabin'],\n",
       " [],\n",
       " ['chapter', '130', 'hat'],\n",
       " [],\n",
       " ['chapter', '131', 'pequod', 'meet', 'delight'],\n",
       " [],\n",
       " ['chapter', '132', 'symphoni'],\n",
       " [],\n",
       " ['chapter', '133', 'chasefirst', 'day'],\n",
       " [],\n",
       " ['chapter', '134', 'chasesecond', 'day'],\n",
       " [],\n",
       " ['chapter', '135', 'chasethird', 'day'],\n",
       " [],\n",
       " ['epilogu'],\n",
       " [],\n",
       " [],\n",
       " [],\n",
       " [],\n",
       " ['origin', 'transcrib', 'note'],\n",
       " [],\n",
       " [],\n",
       " []]"
      ]
     },
     "execution_count": 246,
     "metadata": {},
     "output_type": "execute_result"
    }
   ],
   "source": [
    "#inicio del libro\n",
    "map_libro[151:300]"
   ]
  },
  {
   "cell_type": "code",
   "execution_count": 247,
   "metadata": {},
   "outputs": [
    {
     "data": {
      "text/plain": [
       "[['harpoon', 'aloft', 'shook', 'bulllik', 'neck', 'breach'],\n",
       " ['heard', 'water', 'pour', 'mountain', 'torrent', 'flume'],\n",
       " [],\n",
       " ['ship', 'hearseth', 'second', 'hears', 'cri', 'ahab', 'boat'],\n",
       " ['wood', 'could', 'american'],\n",
       " [],\n",
       " ['dive', 'beneath', 'settl', 'ship', 'whale', 'ran', 'quiver', 'along'],\n",
       " ['keel', 'turn', 'water', 'swift', 'shot', 'surfac', 'far'],\n",
       " ['bow', 'within', 'yard', 'ahab', 'boat'],\n",
       " ['time', 'lay', 'quiescent'],\n",
       " [],\n",
       " ['turn', 'bodi', 'sun', 'ho', 'tashtego', 'let', 'hear', 'thi'],\n",
       " ['hammer',\n",
       "  'oh',\n",
       "  'ye',\n",
       "  'three',\n",
       "  'unsurrend',\n",
       "  'spire',\n",
       "  'mine',\n",
       "  'thou',\n",
       "  'uncrack',\n",
       "  'keel'],\n",
       " ['godbulli', 'hull', 'thou', 'firm', 'deck', 'haughti', 'helm'],\n",
       " ['polepoint', 'prowdeathglori', 'ship', 'must', 'ye', 'perish'],\n",
       " ['without', 'cut', 'last', 'fond', 'pride', 'meanest'],\n",
       " ['shipwreck', 'captain', 'oh', 'lone', 'death', 'lone', 'life', 'oh', 'feel'],\n",
       " ['topmost', 'great', 'lie', 'topmost', 'grief', 'ho', 'ho'],\n",
       " ['furthest',\n",
       "  'bound',\n",
       "  'pour',\n",
       "  'ye',\n",
       "  'ye',\n",
       "  'bold',\n",
       "  'billow',\n",
       "  'whole',\n",
       "  'foregon'],\n",
       " ['life', 'top', 'one', 'pile', 'comber', 'death', 'toward', 'thee', 'roll'],\n",
       " ['thou', 'alldestroy', 'unconqu', 'whale', 'last', 'grappl'],\n",
       " ['thee', 'hell', 'heart', 'stab', 'thee', 'hate', 'sake', 'spit', 'last'],\n",
       " ['breath', 'thee', 'sink', 'coffin', 'hears', 'one', 'common', 'pool'],\n",
       " ['sinc', 'neither', 'mine', 'let', 'tow', 'piec', 'still'],\n",
       " ['chase',\n",
       "  'thee',\n",
       "  'though',\n",
       "  'tie',\n",
       "  'thee',\n",
       "  'thou',\n",
       "  'damn',\n",
       "  'whale',\n",
       "  '_thus_',\n",
       "  'give'],\n",
       " ['spear'],\n",
       " [],\n",
       " ['harpoon', 'dart', 'stricken', 'whale', 'flew', 'forward', 'ignit'],\n",
       " ['veloc', 'line', 'ran', 'groovesran', 'foul', 'ahab', 'stoop'],\n",
       " ['clear', 'clear', 'fli', 'turn', 'caught', 'round'],\n",
       " ['neck', 'voiceless', 'turkish', 'mute', 'bowstr', 'victim'],\n",
       " ['shot', 'boat', 'ere', 'crew', 'knew', 'gone', 'next', 'instant'],\n",
       " ['heavi', 'eyesplic', 'rope', 'final', 'end', 'flew', 'starkempti'],\n",
       " ['tub', 'knock', 'oarsman', 'smite', 'sea', 'disappear'],\n",
       " ['depth'],\n",
       " [],\n",
       " ['instant', 'tranc', 'boat', 'crew', 'stood', 'still', 'turn'],\n",
       " ['ship', 'great', 'god', 'ship', 'soon', 'dim', 'bewild'],\n",
       " ['medium', 'saw', 'sidelong', 'fade', 'phantom', 'gaseous', 'fata'],\n",
       " ['morgana', 'uppermost', 'mast', 'water', 'fix'],\n",
       " ['infatu', 'fidel', 'fate', 'lofti', 'perch'],\n",
       " ['pagan', 'harpoon', 'still', 'maintain', 'sink', 'lookout', 'sea'],\n",
       " ['concentr', 'circl', 'seiz', 'lone', 'boat'],\n",
       " ['crew', 'float', 'oar', 'everi', 'lancepol', 'spin'],\n",
       " ['anim', 'inanim', 'round', 'round', 'one', 'vortex', 'carri'],\n",
       " ['smallest', 'chip', 'pequod', 'sight'],\n",
       " [],\n",
       " ['last', 'whelm', 'intermix', 'pour'],\n",
       " ['sunken', 'head', 'indian', 'mainmast', 'leav', 'inch'],\n",
       " ['erect',\n",
       "  'spar',\n",
       "  'yet',\n",
       "  'visibl',\n",
       "  'togeth',\n",
       "  'long',\n",
       "  'stream',\n",
       "  'yard',\n",
       "  'flag'],\n",
       " ['calm', 'undul', 'iron', 'coincid', 'destroy'],\n",
       " ['billow', 'almost', 'touchedat', 'instant', 'red', 'arm', 'hammer'],\n",
       " ['hover', 'backward', 'uplift', 'open', 'air', 'act', 'nail'],\n",
       " ['flag', 'faster', 'yet', 'faster', 'subsid', 'spar', 'skyhawk'],\n",
       " ['taunt', 'follow', 'maintruck', 'downward', 'natur', 'home'],\n",
       " ['among', 'star', 'peck', 'flag', 'incommod', 'tashtego'],\n",
       " ['bird', 'chanc', 'intercept', 'broad', 'flutter', 'wing'],\n",
       " ['hammer', 'wood', 'simultan', 'feel', 'etheri'],\n",
       " ['thrill', 'submerg', 'savag', 'beneath', 'deathgasp', 'kept'],\n",
       " ['hammer', 'frozen', 'bird', 'heaven', 'archangel'],\n",
       " ['shriek', 'imperi', 'beak', 'thrust', 'upward', 'whole', 'captiv'],\n",
       " ['form', 'fold', 'flag', 'ahab', 'went', 'ship', 'like'],\n",
       " ['satan', 'would', 'sink', 'hell', 'till', 'drag', 'live', 'part'],\n",
       " ['heaven', 'along', 'helmet'],\n",
       " [],\n",
       " ['small', 'fowl', 'flew', 'scream', 'yet', 'yawn', 'gulf', 'sullen'],\n",
       " ['white', 'surf', 'beat', 'steep', 'side', 'collaps'],\n",
       " ['great', 'shroud', 'sea', 'roll', 'roll', 'five', 'thousand', 'year', 'ago'],\n",
       " [],\n",
       " [],\n",
       " ['epilogu'],\n",
       " [],\n",
       " ['escap', 'alon', 'tell', 'thee', 'job'],\n",
       " [],\n",
       " ['drama', 'done', 'one', 'step', 'forthbecaus', 'one'],\n",
       " ['surviv', 'wreck'],\n",
       " [],\n",
       " ['chanc', 'parse', 'disappear'],\n",
       " ['fate', 'ordain', 'take', 'place', 'ahab', 'bowsman', 'bowsman'],\n",
       " ['assum', 'vacant', 'post', 'last', 'day', 'three'],\n",
       " ['men', 'toss', 'rock', 'boat', 'drop', 'astern'],\n",
       " ['float', 'margin', 'ensu', 'scene', 'full', 'sight'],\n",
       " ['halfspent', 'suction', 'sunk', 'ship', 'reach'],\n",
       " ['slowli', 'drawn', 'toward', 'close', 'vortex', 'reach'],\n",
       " ['subsid', 'creami', 'pool', 'round', 'round', 'ever', 'contract'],\n",
       " ['toward', 'buttonlik', 'black', 'bubbl', 'axi', 'slowli'],\n",
       " ['wheel', 'circl', 'like', 'anoth', 'ixion', 'revolv', 'till', 'gain'],\n",
       " ['vital', 'centr', 'black', 'bubbl', 'upward', 'burst', 'liber'],\n",
       " ['reason', 'cun', 'spring', 'owe', 'great', 'buoyanc', 'rise'],\n",
       " ['great', 'forc', 'coffin', 'lifebuoy', 'shot', 'lengthwis', 'sea'],\n",
       " ['fell', 'float', 'side', 'buoy', 'coffin', 'almost'],\n",
       " ['one', 'whole', 'day', 'night', 'float', 'soft', 'dirgelik', 'main'],\n",
       " ['unharm', 'shark', 'glide', 'padlock', 'mouth'],\n",
       " ['savag', 'seahawk', 'sail', 'sheath', 'beak', 'second', 'day'],\n",
       " ['sail', 'drew', 'near', 'nearer', 'pick', 'last'],\n",
       " ['deviouscruis', 'rachel', 'retrac', 'search', 'miss'],\n",
       " ['children', 'found', 'anoth', 'orphan'],\n",
       " [],\n",
       " [],\n",
       " []]"
      ]
     },
     "execution_count": 247,
     "metadata": {},
     "output_type": "execute_result"
    }
   ],
   "source": [
    "map_libro[-100:]"
   ]
  },
  {
   "cell_type": "markdown",
   "metadata": {},
   "source": [
    "#### Tokenizacion del las palabras del libro"
   ]
  },
  {
   "cell_type": "code",
   "execution_count": 248,
   "metadata": {},
   "outputs": [
    {
     "data": {
      "text/plain": [
       "['mobydick', 'whale', 'herman', 'melvill', 'content']"
      ]
     },
     "execution_count": 248,
     "metadata": {},
     "output_type": "execute_result"
    }
   ],
   "source": [
    "tokens = []\n",
    "for token in map_libro:\n",
    "    tokens.extend(token)\n",
    "tokens[:5]"
   ]
  },
  {
   "cell_type": "markdown",
   "metadata": {},
   "source": [
    "### Procesamiento del texto"
   ]
  },
  {
   "cell_type": "code",
   "execution_count": 249,
   "metadata": {},
   "outputs": [],
   "source": [
    "import pandas as pd\n",
    "df = pd.DataFrame(tokens)"
   ]
  },
  {
   "cell_type": "code",
   "execution_count": 250,
   "metadata": {},
   "outputs": [
    {
     "data": {
      "text/html": [
       "<div>\n",
       "<style scoped>\n",
       "    .dataframe tbody tr th:only-of-type {\n",
       "        vertical-align: middle;\n",
       "    }\n",
       "\n",
       "    .dataframe tbody tr th {\n",
       "        vertical-align: top;\n",
       "    }\n",
       "\n",
       "    .dataframe thead th {\n",
       "        text-align: right;\n",
       "    }\n",
       "</style>\n",
       "<table border=\"1\" class=\"dataframe\">\n",
       "  <thead>\n",
       "    <tr style=\"text-align: right;\">\n",
       "      <th></th>\n",
       "      <th>0</th>\n",
       "    </tr>\n",
       "  </thead>\n",
       "  <tbody>\n",
       "    <tr>\n",
       "      <th>0</th>\n",
       "      <td>mobydick</td>\n",
       "    </tr>\n",
       "    <tr>\n",
       "      <th>1</th>\n",
       "      <td>whale</td>\n",
       "    </tr>\n",
       "    <tr>\n",
       "      <th>2</th>\n",
       "      <td>herman</td>\n",
       "    </tr>\n",
       "    <tr>\n",
       "      <th>3</th>\n",
       "      <td>melvill</td>\n",
       "    </tr>\n",
       "    <tr>\n",
       "      <th>4</th>\n",
       "      <td>content</td>\n",
       "    </tr>\n",
       "    <tr>\n",
       "      <th>...</th>\n",
       "      <td>...</td>\n",
       "    </tr>\n",
       "    <tr>\n",
       "      <th>109366</th>\n",
       "      <td>miss</td>\n",
       "    </tr>\n",
       "    <tr>\n",
       "      <th>109367</th>\n",
       "      <td>children</td>\n",
       "    </tr>\n",
       "    <tr>\n",
       "      <th>109368</th>\n",
       "      <td>found</td>\n",
       "    </tr>\n",
       "    <tr>\n",
       "      <th>109369</th>\n",
       "      <td>anoth</td>\n",
       "    </tr>\n",
       "    <tr>\n",
       "      <th>109370</th>\n",
       "      <td>orphan</td>\n",
       "    </tr>\n",
       "  </tbody>\n",
       "</table>\n",
       "<p>109371 rows × 1 columns</p>\n",
       "</div>"
      ],
      "text/plain": [
       "               0\n",
       "0       mobydick\n",
       "1          whale\n",
       "2         herman\n",
       "3        melvill\n",
       "4        content\n",
       "...          ...\n",
       "109366      miss\n",
       "109367  children\n",
       "109368     found\n",
       "109369     anoth\n",
       "109370    orphan\n",
       "\n",
       "[109371 rows x 1 columns]"
      ]
     },
     "execution_count": 250,
     "metadata": {},
     "output_type": "execute_result"
    }
   ],
   "source": [
    "df"
   ]
  },
  {
   "cell_type": "markdown",
   "metadata": {},
   "source": [
    "Conteo de frecuencias"
   ]
  },
  {
   "cell_type": "code",
   "execution_count": 251,
   "metadata": {},
   "outputs": [
    {
     "data": {
      "text/plain": [
       "0       \n",
       "whale       1461\n",
       "one          920\n",
       "like         589\n",
       "upon         565\n",
       "ship         556\n",
       "            ... \n",
       "exordium       1\n",
       "implic         1\n",
       "implicit       1\n",
       "imponder       1\n",
       "חו             1\n",
       "Name: count, Length: 13471, dtype: int64"
      ]
     },
     "execution_count": 251,
     "metadata": {},
     "output_type": "execute_result"
    }
   ],
   "source": [
    "conteo_frecuencias = df.value_counts()\n",
    "conteo_frecuencias"
   ]
  },
  {
   "cell_type": "code",
   "execution_count": 252,
   "metadata": {},
   "outputs": [
    {
     "data": {
      "text/html": [
       "<div>\n",
       "<style scoped>\n",
       "    .dataframe tbody tr th:only-of-type {\n",
       "        vertical-align: middle;\n",
       "    }\n",
       "\n",
       "    .dataframe tbody tr th {\n",
       "        vertical-align: top;\n",
       "    }\n",
       "\n",
       "    .dataframe thead th {\n",
       "        text-align: right;\n",
       "    }\n",
       "</style>\n",
       "<table border=\"1\" class=\"dataframe\">\n",
       "  <thead>\n",
       "    <tr style=\"text-align: right;\">\n",
       "      <th></th>\n",
       "      <th>count</th>\n",
       "    </tr>\n",
       "    <tr>\n",
       "      <th>0</th>\n",
       "      <th></th>\n",
       "    </tr>\n",
       "  </thead>\n",
       "  <tbody>\n",
       "    <tr>\n",
       "      <th>whale</th>\n",
       "      <td>1461</td>\n",
       "    </tr>\n",
       "    <tr>\n",
       "      <th>one</th>\n",
       "      <td>920</td>\n",
       "    </tr>\n",
       "    <tr>\n",
       "      <th>like</th>\n",
       "      <td>589</td>\n",
       "    </tr>\n",
       "    <tr>\n",
       "      <th>upon</th>\n",
       "      <td>565</td>\n",
       "    </tr>\n",
       "    <tr>\n",
       "      <th>ship</th>\n",
       "      <td>556</td>\n",
       "    </tr>\n",
       "    <tr>\n",
       "      <th>...</th>\n",
       "      <td>...</td>\n",
       "    </tr>\n",
       "    <tr>\n",
       "      <th>exordium</th>\n",
       "      <td>1</td>\n",
       "    </tr>\n",
       "    <tr>\n",
       "      <th>implic</th>\n",
       "      <td>1</td>\n",
       "    </tr>\n",
       "    <tr>\n",
       "      <th>implicit</th>\n",
       "      <td>1</td>\n",
       "    </tr>\n",
       "    <tr>\n",
       "      <th>imponder</th>\n",
       "      <td>1</td>\n",
       "    </tr>\n",
       "    <tr>\n",
       "      <th>חו</th>\n",
       "      <td>1</td>\n",
       "    </tr>\n",
       "  </tbody>\n",
       "</table>\n",
       "<p>13471 rows × 1 columns</p>\n",
       "</div>"
      ],
      "text/plain": [
       "          count\n",
       "0              \n",
       "whale      1461\n",
       "one         920\n",
       "like        589\n",
       "upon        565\n",
       "ship        556\n",
       "...         ...\n",
       "exordium      1\n",
       "implic        1\n",
       "implicit      1\n",
       "imponder      1\n",
       "חו            1\n",
       "\n",
       "[13471 rows x 1 columns]"
      ]
     },
     "execution_count": 252,
     "metadata": {},
     "output_type": "execute_result"
    }
   ],
   "source": [
    "df_frecuencias = conteo_frecuencias.to_frame()\n",
    "df_frecuencias"
   ]
  },
  {
   "cell_type": "code",
   "execution_count": 253,
   "metadata": {},
   "outputs": [
    {
     "data": {
      "text/html": [
       "<div>\n",
       "<style scoped>\n",
       "    .dataframe tbody tr th:only-of-type {\n",
       "        vertical-align: middle;\n",
       "    }\n",
       "\n",
       "    .dataframe tbody tr th {\n",
       "        vertical-align: top;\n",
       "    }\n",
       "\n",
       "    .dataframe thead th {\n",
       "        text-align: right;\n",
       "    }\n",
       "</style>\n",
       "<table border=\"1\" class=\"dataframe\">\n",
       "  <thead>\n",
       "    <tr style=\"text-align: right;\">\n",
       "      <th></th>\n",
       "      <th>token</th>\n",
       "      <th>conteo</th>\n",
       "    </tr>\n",
       "  </thead>\n",
       "  <tbody>\n",
       "    <tr>\n",
       "      <th>0</th>\n",
       "      <td>whale</td>\n",
       "      <td>1461</td>\n",
       "    </tr>\n",
       "    <tr>\n",
       "      <th>1</th>\n",
       "      <td>one</td>\n",
       "      <td>920</td>\n",
       "    </tr>\n",
       "    <tr>\n",
       "      <th>2</th>\n",
       "      <td>like</td>\n",
       "      <td>589</td>\n",
       "    </tr>\n",
       "    <tr>\n",
       "      <th>3</th>\n",
       "      <td>upon</td>\n",
       "      <td>565</td>\n",
       "    </tr>\n",
       "    <tr>\n",
       "      <th>4</th>\n",
       "      <td>ship</td>\n",
       "      <td>556</td>\n",
       "    </tr>\n",
       "    <tr>\n",
       "      <th>...</th>\n",
       "      <td>...</td>\n",
       "      <td>...</td>\n",
       "    </tr>\n",
       "    <tr>\n",
       "      <th>13466</th>\n",
       "      <td>exordium</td>\n",
       "      <td>1</td>\n",
       "    </tr>\n",
       "    <tr>\n",
       "      <th>13467</th>\n",
       "      <td>implic</td>\n",
       "      <td>1</td>\n",
       "    </tr>\n",
       "    <tr>\n",
       "      <th>13468</th>\n",
       "      <td>implicit</td>\n",
       "      <td>1</td>\n",
       "    </tr>\n",
       "    <tr>\n",
       "      <th>13469</th>\n",
       "      <td>imponder</td>\n",
       "      <td>1</td>\n",
       "    </tr>\n",
       "    <tr>\n",
       "      <th>13470</th>\n",
       "      <td>חו</td>\n",
       "      <td>1</td>\n",
       "    </tr>\n",
       "  </tbody>\n",
       "</table>\n",
       "<p>13471 rows × 2 columns</p>\n",
       "</div>"
      ],
      "text/plain": [
       "          token  conteo\n",
       "0         whale    1461\n",
       "1           one     920\n",
       "2          like     589\n",
       "3          upon     565\n",
       "4          ship     556\n",
       "...         ...     ...\n",
       "13466  exordium       1\n",
       "13467    implic       1\n",
       "13468  implicit       1\n",
       "13469  imponder       1\n",
       "13470        חו       1\n",
       "\n",
       "[13471 rows x 2 columns]"
      ]
     },
     "execution_count": 253,
     "metadata": {},
     "output_type": "execute_result"
    }
   ],
   "source": [
    "df_frecuencias.reset_index(inplace = True)\n",
    "df_frecuencias.columns = ['token', 'conteo']\n",
    "df_frecuencias"
   ]
  },
  {
   "cell_type": "markdown",
   "metadata": {},
   "source": [
    "top 10 palabras mas usadas"
   ]
  },
  {
   "cell_type": "code",
   "execution_count": 254,
   "metadata": {},
   "outputs": [
    {
     "data": {
      "text/html": [
       "<div>\n",
       "<style scoped>\n",
       "    .dataframe tbody tr th:only-of-type {\n",
       "        vertical-align: middle;\n",
       "    }\n",
       "\n",
       "    .dataframe tbody tr th {\n",
       "        vertical-align: top;\n",
       "    }\n",
       "\n",
       "    .dataframe thead th {\n",
       "        text-align: right;\n",
       "    }\n",
       "</style>\n",
       "<table border=\"1\" class=\"dataframe\">\n",
       "  <thead>\n",
       "    <tr style=\"text-align: right;\">\n",
       "      <th></th>\n",
       "      <th>token</th>\n",
       "      <th>conteo</th>\n",
       "    </tr>\n",
       "  </thead>\n",
       "  <tbody>\n",
       "    <tr>\n",
       "      <th>0</th>\n",
       "      <td>whale</td>\n",
       "      <td>1461</td>\n",
       "    </tr>\n",
       "    <tr>\n",
       "      <th>1</th>\n",
       "      <td>one</td>\n",
       "      <td>920</td>\n",
       "    </tr>\n",
       "    <tr>\n",
       "      <th>2</th>\n",
       "      <td>like</td>\n",
       "      <td>589</td>\n",
       "    </tr>\n",
       "    <tr>\n",
       "      <th>3</th>\n",
       "      <td>upon</td>\n",
       "      <td>565</td>\n",
       "    </tr>\n",
       "    <tr>\n",
       "      <th>4</th>\n",
       "      <td>ship</td>\n",
       "      <td>556</td>\n",
       "    </tr>\n",
       "    <tr>\n",
       "      <th>5</th>\n",
       "      <td>man</td>\n",
       "      <td>500</td>\n",
       "    </tr>\n",
       "    <tr>\n",
       "      <th>6</th>\n",
       "      <td>ahab</td>\n",
       "      <td>493</td>\n",
       "    </tr>\n",
       "    <tr>\n",
       "      <th>7</th>\n",
       "      <td>seem</td>\n",
       "      <td>469</td>\n",
       "    </tr>\n",
       "    <tr>\n",
       "      <th>8</th>\n",
       "      <td>sea</td>\n",
       "      <td>466</td>\n",
       "    </tr>\n",
       "    <tr>\n",
       "      <th>9</th>\n",
       "      <td>old</td>\n",
       "      <td>440</td>\n",
       "    </tr>\n",
       "  </tbody>\n",
       "</table>\n",
       "</div>"
      ],
      "text/plain": [
       "   token  conteo\n",
       "0  whale    1461\n",
       "1    one     920\n",
       "2   like     589\n",
       "3   upon     565\n",
       "4   ship     556\n",
       "5    man     500\n",
       "6   ahab     493\n",
       "7   seem     469\n",
       "8    sea     466\n",
       "9    old     440"
      ]
     },
     "execution_count": 254,
     "metadata": {},
     "output_type": "execute_result"
    }
   ],
   "source": [
    "df_frecuencias.head(10)"
   ]
  },
  {
   "cell_type": "code",
   "execution_count": 256,
   "metadata": {},
   "outputs": [
    {
     "data": {
      "text/plain": [
       "<BarContainer object of 20 artists>"
      ]
     },
     "execution_count": 256,
     "metadata": {},
     "output_type": "execute_result"
    },
    {
     "data": {
      "image/png": "[encoded data removed]",
      "text/plain": [
       "<Figure size 640x480 with 1 Axes>"
      ]
     },
     "metadata": {},
     "output_type": "display_data"
    }
   ],
   "source": [
    "import matplotlib.pyplot as plt\n",
    "plt.bar(df_frecuencias.iloc[:20].token, df_frecuencias.iloc[:20].conteo)"
   ]
  },
  {
   "cell_type": "code",
   "execution_count": 257,
   "metadata": {},
   "outputs": [
    {
     "name": "stdout",
     "output_type": "stream",
     "text": [
      "Collecting wordcloud\n",
      "  Downloading wordcloud-1.9.3-cp312-cp312-win_amd64.whl.metadata (3.5 kB)\n",
      "Requirement already satisfied: numpy>=1.6.1 in c:\\users\\juanj\\appdata\\local\\programs\\python\\python312\\lib\\site-packages (from wordcloud) (1.26.4)\n",
      "Requirement already satisfied: pillow in c:\\users\\juanj\\appdata\\local\\programs\\python\\python312\\lib\\site-packages (from wordcloud) (10.2.0)\n",
      "Requirement already satisfied: matplotlib in c:\\users\\juanj\\appdata\\local\\programs\\python\\python312\\lib\\site-packages (from wordcloud) (3.8.3)\n",
      "Requirement already satisfied: contourpy>=1.0.1 in c:\\users\\juanj\\appdata\\local\\programs\\python\\python312\\lib\\site-packages (from matplotlib->wordcloud) (1.2.0)\n",
      "Requirement already satisfied: cycler>=0.10 in c:\\users\\juanj\\appdata\\local\\programs\\python\\python312\\lib\\site-packages (from matplotlib->wordcloud) (0.12.1)\n",
      "Requirement already satisfied: fonttools>=4.22.0 in c:\\users\\juanj\\appdata\\local\\programs\\python\\python312\\lib\\site-packages (from matplotlib->wordcloud) (4.49.0)\n",
      "Requirement already satisfied: kiwisolver>=1.3.1 in c:\\users\\juanj\\appdata\\local\\programs\\python\\python312\\lib\\site-packages (from matplotlib->wordcloud) (1.4.5)\n",
      "Requirement already satisfied: packaging>=20.0 in c:\\users\\juanj\\appdata\\roaming\\python\\python312\\site-packages (from matplotlib->wordcloud) (23.2)\n",
      "Requirement already satisfied: pyparsing>=2.3.1 in c:\\users\\juanj\\appdata\\local\\programs\\python\\python312\\lib\\site-packages (from matplotlib->wordcloud) (3.1.2)\n",
      "Requirement already satisfied: python-dateutil>=2.7 in c:\\users\\juanj\\appdata\\roaming\\python\\python312\\site-packages (from matplotlib->wordcloud) (2.8.2)\n",
      "Requirement already satisfied: six>=1.5 in c:\\users\\juanj\\appdata\\roaming\\python\\python312\\site-packages (from python-dateutil>=2.7->matplotlib->wordcloud) (1.16.0)\n",
      "Downloading wordcloud-1.9.3-cp312-cp312-win_amd64.whl (301 kB)\n",
      "   ---------------------------------------- 0.0/301.4 kB ? eta -:--:--\n",
      "   - -------------------------------------- 10.2/301.4 kB ? eta -:--:--\n",
      "   ----- --------------------------------- 41.0/301.4 kB 653.6 kB/s eta 0:00:01\n",
      "   ----------------------------- ---------- 225.3/301.4 kB 2.0 MB/s eta 0:00:01\n",
      "   ---------------------------------------- 301.4/301.4 kB 2.3 MB/s eta 0:00:00\n",
      "Installing collected packages: wordcloud\n",
      "Successfully installed wordcloud-1.9.3\n"
     ]
    }
   ],
   "source": [
    "!pip install wordcloud"
   ]
  },
  {
   "cell_type": "code",
   "execution_count": 258,
   "metadata": {},
   "outputs": [
    {
     "data": {
      "text/plain": [
       "(-0.5, 399.5, 199.5, -0.5)"
      ]
     },
     "execution_count": 258,
     "metadata": {},
     "output_type": "execute_result"
    },
    {
     "data": {
      "image/png": "[encoded data removed]",
      "text/plain": [
       "<Figure size 640x480 with 1 Axes>"
      ]
     },
     "metadata": {},
     "output_type": "display_data"
    }
   ],
   "source": [
    "from wordcloud import WordCloud\n",
    "\n",
    "wordcloud = WordCloud().generate(' '.join(tokens))\n",
    "plt.imshow(wordcloud, interpolation='bilinear')\n",
    "plt.axis(\"off\")"
   ]
  }
 ],
 "metadata": {
  "kernelspec": {
   "display_name": "Python 3",
   "language": "python",
   "name": "python3"
  },
  "language_info": {
   "codemirror_mode": {
    "name": "ipython",
    "version": 3
   },
   "file_extension": ".py",
   "mimetype": "text/x-python",
   "name": "python",
   "nbconvert_exporter": "python",
   "pygments_lexer": "ipython3",
   "version": "3.12.1"
  }
 },
 "nbformat": 4,
 "nbformat_minor": 2
}
