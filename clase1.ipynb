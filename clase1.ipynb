{
 "cells": [
  {
   "cell_type": "markdown",
   "metadata": {},
   "source": [
    "# Sesión 1 Analiss de texto\n",
    "## Introduccion\n",
    "\n",
    "### definicion de análisis de texto\n",
    "\n",
    "El analis de texto es una rama de la ciencia de datos que se centra en la extraccion util y sisgnificativa a pártir de datos de texto no estructurados, es decir no presentan una estructura de diseño y suelen ser datos cualitativos, conjuntos de datos apilados.\n",
    "\n",
    "### Importancia del analisis de Texto\n",
    "\n",
    "Permite tener conocimiento apartir de grandes volumenes de texto, como redes solciales, libros, blogs, paginas web, documentos empresariales, correos electronicos, permitiendo la automatizacion de tareas como son la clasificacion de documentos, el analisis de sentimiento y la extraccion de informacion, como datos estadisticos los cules pueden verse como patrones de escritura o personalizacion de estilos de redaccion.\n",
    "\n",
    "### Aplicacion del Analisis de Texto \n",
    "\n",
    "#### Aplicacones principales\n",
    "    \n",
    "    - clasificacion de documentos.\n",
    "    - analisis de sentimiento.\n",
    "    - extraccion de informacion.\n",
    "    - generacioin de resumenes automaticos.\n",
    "    - traduiccion automatica.\n",
    "    - chatbots y asistentes virtuales.\n",
    "\n",
    "#### Ejemplos de casos de uso\n",
    "\n",
    "    1.- Analisis de opiniones en redes sociales para entender la percepcion del cliente.\n",
    "\n",
    "    2.- Alanisis de discursos politicos: contraposicioin de discursos busqueda de congruencia y contradicciones en discursos.\n",
    "\n",
    "    3.- clasificaciopn de correos electronicos cono spam o no spam.\n",
    "\n",
    "    4.- extraccion de entidades (nombres, lugares, fechas) de documentos legales.\n",
    "\n",
    "    5.- Análisis de textos periodísticos: Se emplea una técnica conocida como las cinco “W” del periodismo (Who,What, When, Where, Why) para desglosar noticias y artículos. Se evalúa la estructura, el tono, las fuentes y la veracidad de la información.\n",
    "\n",
    "    6.- Análisis de textos literarios: Se estudian obras literarias como novelas, poemas o cuentos. Se analizan elementos como la trama, los personajes, el estilo del autor y los temas subyacentes.\n",
    "\n",
    "    7.- Análisis de textos históricos: Se investigan documentos antiguos, cartas, diarios y registros históricos. Se busca comprender el contexto, las intenciones del autor y las implicaciones históricas.\n",
    "\n",
    "    8.- Análisis de textos científicos: Se examinan artículos académicos, investigaciones y publicaciones científicas. Se evalúa la metodología, los resultados y las conclusiones.\n",
    "\n",
    "    9.- Análisis de textos argumentativos: Se descompone un texto en sus partes constituyentes: introducción, desarrollo y conclusión. Se identifican las afirmaciones, las evidencias y la lógica utilizada por el autor.\n",
    "\n",
    "    10.- Interpretación de figuras retóricas: Se analizan metáforas, hipérboles, ironías y otras figuras literarias presentes en el texto.\n",
    "    \n",
    "    11.- Interpretación de datos estadísticos: Se extraen conclusiones a partir de datos numéricos presentados en el texto.\n",
    "\n",
    "### Componentes del analisis de Texto\n",
    "\n",
    "#### Preprocesamiento de Texto\n",
    "\n",
    "    - Limpieza de datos: elikminacion de signos de puntuación, números, palabras vacías (stopwords).\n",
    "    \n",
    "    - Tokenizacion: dividir el texto en unidades mas pequeñas (tokens).\n",
    "\n",
    "\n"
   ]
  },
  {
   "cell_type": "code",
   "execution_count": null,
   "metadata": {},
   "outputs": [],
   "source": []
  },
  {
   "cell_type": "code",
   "execution_count": null,
   "metadata": {},
   "outputs": [],
   "source": []
  }
 ],
 "metadata": {
  "language_info": {
   "name": "python"
  }
 },
 "nbformat": 4,
 "nbformat_minor": 2
}
