{
 "cells": [
  {
   "cell_type": "code",
   "execution_count": 19,
   "metadata": {},
   "outputs": [
    {
     "name": "stdout",
     "output_type": "stream",
     "text": [
      "Collecting pymp3\n",
      "  Downloading pymp3-0.2.0-cp312-cp312-win_amd64.whl.metadata (8.0 kB)\n",
      "Downloading pymp3-0.2.0-cp312-cp312-win_amd64.whl (171 kB)\n",
      "   ---------------------------------------- 0.0/172.0 kB ? eta -:--:--\n",
      "   ---------------------------------------- 0.0/172.0 kB ? eta -:--:--\n",
      "   ---- ---------------------------------- 20.5/172.0 kB 640.0 kB/s eta 0:00:01\n",
      "   ------------- ------------------------- 61.4/172.0 kB 656.4 kB/s eta 0:00:01\n",
      "   --------------------------------- ------ 143.4/172.0 kB 1.1 MB/s eta 0:00:01\n",
      "   -------------------------------------- 172.0/172.0 kB 940.2 kB/s eta 0:00:00\n",
      "Installing collected packages: pymp3\n",
      "Successfully installed pymp3-0.2.0\n"
     ]
    }
   ],
   "source": [
    "#!pip install hub\n",
    "#!pip install av\n",
    "#!pip install soundfile\n",
    "#!pip install pytube\n",
    "#!pip install yt_dlp\n",
    "#!pip install librosa\n",
    "#!pip install ffmpeg\n",
    "#!pip install ffmpeg-python\n",
    "#!pip install pydub\n",
    "#!pip install tensorflow \n",
    "#!pip install mp3stego-lib\n",
    "#!pip install bitarray\n",
    "!pip install pymp3"
   ]
  },
  {
   "cell_type": "code",
   "execution_count": 5,
   "metadata": {},
   "outputs": [
    {
     "name": "stderr",
     "output_type": "stream",
     "text": [
      "c:\\Users\\juanj\\AppData\\Local\\Programs\\Python\\Python312\\Lib\\site-packages\\deeplake\\util\\check_latest_version.py:32: UserWarning: A newer version of deeplake (3.9.13) is available. It's recommended that you update to the latest version using `pip install -U deeplake`.\n",
      "  warnings.warn(\n"
     ]
    }
   ],
   "source": [
    "import hub\n",
    "import numpy as np\n",
    "import matplotlib.pyplot as plt\n",
    "from IPython.display import Audio, display\n",
    "import soundfile as sf\n",
    "from pytube import YouTube\n",
    "from scipy.io.wavfile import read\n",
    "import wave\n",
    "import librosa\n",
    "import librosa.display\n",
    "import IPython\n",
    "import scipy.io.wavfile as waves\n",
    "import subprocess\n",
    "from pydub import AudioSegment\n"
   ]
  },
  {
   "cell_type": "markdown",
   "metadata": {},
   "source": [
    "#### extraccion de audio de youtube\n",
    "\n",
    "Descargamos dos audios directamente de Youtube, para este ejercicio seran audio muy simples."
   ]
  },
  {
   "cell_type": "code",
   "execution_count": 7,
   "metadata": {},
   "outputs": [],
   "source": [
    "url = 'https://www.youtube.com/watch?v=l7IFrF2ojKs'\n",
    "#### descargamos el video de YouTube desde el link del video\n",
    "yt = YouTube(url)\n",
    "stream = yt.streams.filter(only_audio=True).first()\n",
    "stream.download(filename='Timbre.mp3')\n",
    "\n",
    "mp3_1 = 'Timbre.mp3'"
   ]
  },
  {
   "cell_type": "code",
   "execution_count": 2,
   "metadata": {},
   "outputs": [],
   "source": [
    "url = 'https://www.youtube.com/watch?v=LmpBSYIuYQ8'\n",
    "#### descargamos el video de YouTube desde el link del video\n",
    "yt = YouTube(url)\n",
    "stream = yt.streams.filter(only_audio=True).first()\n",
    "stream.download(filename='sonidos_W.mp3')\n",
    "\n",
    "mp3_2 = 'sonidos_W.mp3'\n"
   ]
  },
  {
   "cell_type": "code",
   "execution_count": 18,
   "metadata": {},
   "outputs": [
    {
     "name": "stderr",
     "output_type": "stream",
     "text": [
      "decoding: 0it [00:00, ?it/s]\n"
     ]
    },
    {
     "data": {
      "text/plain": [
       "0"
      ]
     },
     "execution_count": 18,
     "metadata": {},
     "output_type": "execute_result"
    }
   ],
   "source": [
    "from mp3stego.steganography import Steganography\n",
    "import bitarray\n",
    "stego = Steganography(quiet=True)\n",
    "stego.decode_mp3_to_wav(\"sonidos_W.mp3\", \"sonidos_W.wav\")"
   ]
  },
  {
   "cell_type": "code",
   "execution_count": 26,
   "metadata": {},
   "outputs": [
    {
     "name": "stdout",
     "output_type": "stream",
     "text": [
      "0\n"
     ]
    },
    {
     "ename": "Error",
     "evalue": "bad # of channels",
     "output_type": "error",
     "traceback": [
      "\u001b[1;31m---------------------------------------------------------------------------\u001b[0m",
      "\u001b[1;31mError\u001b[0m                                     Traceback (most recent call last)",
      "Cell \u001b[1;32mIn[26], line 11\u001b[0m\n\u001b[0;32m      8\u001b[0m nchannels \u001b[38;5;241m=\u001b[39m decoder\u001b[38;5;241m.\u001b[39mget_channels()\n\u001b[0;32m     10\u001b[0m wav_file \u001b[38;5;241m=\u001b[39m Wave_write(write_file)\n\u001b[1;32m---> 11\u001b[0m \u001b[43mwav_file\u001b[49m\u001b[38;5;241;43m.\u001b[39;49m\u001b[43msetnchannels\u001b[49m\u001b[43m(\u001b[49m\u001b[43mnchannels\u001b[49m\u001b[43m)\u001b[49m\n\u001b[0;32m     12\u001b[0m wav_file\u001b[38;5;241m.\u001b[39msetsampwidth(\u001b[38;5;241m2\u001b[39m)  \u001b[38;5;66;03m# 16-bit sample width\u001b[39;00m\n\u001b[0;32m     13\u001b[0m wav_file\u001b[38;5;241m.\u001b[39msetframerate(sample_rate)\n",
      "File \u001b[1;32mc:\\Users\\juanj\\AppData\\Local\\Programs\\Python\\Python312\\Lib\\wave.py:480\u001b[0m, in \u001b[0;36mWave_write.setnchannels\u001b[1;34m(self, nchannels)\u001b[0m\n\u001b[0;32m    478\u001b[0m     \u001b[38;5;28;01mraise\u001b[39;00m Error(\u001b[38;5;124m'\u001b[39m\u001b[38;5;124mcannot change parameters after starting to write\u001b[39m\u001b[38;5;124m'\u001b[39m)\n\u001b[0;32m    479\u001b[0m \u001b[38;5;28;01mif\u001b[39;00m nchannels \u001b[38;5;241m<\u001b[39m \u001b[38;5;241m1\u001b[39m:\n\u001b[1;32m--> 480\u001b[0m     \u001b[38;5;28;01mraise\u001b[39;00m Error(\u001b[38;5;124m'\u001b[39m\u001b[38;5;124mbad # of channels\u001b[39m\u001b[38;5;124m'\u001b[39m)\n\u001b[0;32m    481\u001b[0m \u001b[38;5;28mself\u001b[39m\u001b[38;5;241m.\u001b[39m_nchannels \u001b[38;5;241m=\u001b[39m nchannels\n",
      "\u001b[1;31mError\u001b[0m: bad # of channels"
     ]
    }
   ],
   "source": [
    "import mp3\n",
    "from wave import Wave_write\n",
    "\n",
    "with open('sonidos_W.mp3', 'rb') as read_file, open('output.wav', 'wb') as write_file:\n",
    "    decoder = mp3.Decoder(read_file)\n",
    "    sample_rate = decoder.get_sample_rate()\n",
    "    print(decoder.get_channels())\n",
    "    nchannels = decoder.get_channels()\n",
    "\n",
    "    wav_file = Wave_write(write_file)\n",
    "    wav_file.setnchannels(nchannels)\n",
    "    wav_file.setsampwidth(2)  # 16-bit sample width\n",
    "    wav_file.setframerate(sample_rate)\n",
    "\n",
    "    while True:\n",
    "        pcm_data = decoder.read(4000)\n",
    "        if not pcm_data:\n",
    "            break\n",
    "        else:\n",
    "            wav_file.writeframes(pcm_data)\n",
    "\n",
    "print(\"Archivo 'output.wav' creado en formato PCM (WAV).\")\n"
   ]
  }
 ],
 "metadata": {
  "kernelspec": {
   "display_name": "Python 3",
   "language": "python",
   "name": "python3"
  },
  "language_info": {
   "codemirror_mode": {
    "name": "ipython",
    "version": 3
   },
   "file_extension": ".py",
   "mimetype": "text/x-python",
   "name": "python",
   "nbconvert_exporter": "python",
   "pygments_lexer": "ipython3",
   "version": "3.12.1"
  }
 },
 "nbformat": 4,
 "nbformat_minor": 2
}
