{
 "cells": [
  {
   "cell_type": "code",
   "execution_count": 1,
   "metadata": {},
   "outputs": [
    {
     "name": "stdout",
     "output_type": "stream",
     "text": [
      "Collecting hub"
     ]
    },
    {
     "name": "stderr",
     "output_type": "stream",
     "text": [
      "\n",
      "[notice] A new release of pip is available: 24.0 -> 24.1.1\n",
      "[notice] To update, run: python.exe -m pip install --upgrade pip\n"
     ]
    },
    {
     "name": "stdout",
     "output_type": "stream",
     "text": [
      "\n",
      "  Downloading hub-3.0.1-py3-none-any.whl.metadata (389 bytes)\n",
      "Collecting deeplake (from hub)\n",
      "  Downloading deeplake-3.9.12.tar.gz (606 kB)\n",
      "     ---------------------------------------- 0.0/606.9 kB ? eta -:--:--\n",
      "      --------------------------------------- 10.2/606.9 kB ? eta -:--:--\n",
      "      --------------------------------------- 10.2/606.9 kB ? eta -:--:--\n",
      "     - ----------------------------------- 30.7/606.9 kB 187.9 kB/s eta 0:00:04\n",
      "     -- ---------------------------------- 41.0/606.9 kB 245.8 kB/s eta 0:00:03\n",
      "     ------- ---------------------------- 122.9/606.9 kB 554.9 kB/s eta 0:00:01\n",
      "     -------------------------------------  604.2/606.9 kB 2.2 MB/s eta 0:00:01\n",
      "     -------------------------------------- 606.9/606.9 kB 2.1 MB/s eta 0:00:00\n",
      "  Installing build dependencies: started\n",
      "  Installing build dependencies: finished with status 'done'\n",
      "  Getting requirements to build wheel: started\n",
      "  Getting requirements to build wheel: finished with status 'done'\n",
      "  Preparing metadata (pyproject.toml): started\n",
      "  Preparing metadata (pyproject.toml): finished with status 'done'\n",
      "Requirement already satisfied: numpy<2.0 in c:\\users\\juanj\\appdata\\local\\programs\\python\\python312\\lib\\site-packages (from deeplake->hub) (1.26.4)\n",
      "Requirement already satisfied: pillow~=10.2.0 in c:\\users\\juanj\\appdata\\local\\programs\\python\\python312\\lib\\site-packages (from deeplake->hub) (10.2.0)\n",
      "Collecting boto3 (from deeplake->hub)\n",
      "  Downloading boto3-1.34.140-py3-none-any.whl.metadata (6.6 kB)\n",
      "Requirement already satisfied: click in c:\\users\\juanj\\appdata\\local\\programs\\python\\python312\\lib\\site-packages (from deeplake->hub) (8.1.7)\n",
      "Collecting pathos (from deeplake->hub)\n",
      "  Downloading pathos-0.3.2-py3-none-any.whl.metadata (11 kB)\n",
      "Collecting humbug>=0.3.1 (from deeplake->hub)\n",
      "  Downloading humbug-0.3.2-py3-none-any.whl.metadata (6.8 kB)\n",
      "Requirement already satisfied: tqdm in c:\\users\\juanj\\appdata\\local\\programs\\python\\python312\\lib\\site-packages (from deeplake->hub) (4.66.4)\n",
      "Collecting lz4 (from deeplake->hub)\n",
      "  Downloading lz4-4.3.3-cp312-cp312-win_amd64.whl.metadata (3.8 kB)\n",
      "Collecting pyjwt (from deeplake->hub)\n",
      "  Downloading PyJWT-2.8.0-py3-none-any.whl.metadata (4.2 kB)\n",
      "Collecting pydantic (from deeplake->hub)\n",
      "  Downloading pydantic-2.8.2-py3-none-any.whl.metadata (125 kB)\n",
      "     ---------------------------------------- 0.0/125.2 kB ? eta -:--:--\n",
      "     ---------------------------------------- 125.2/125.2 kB ? eta 0:00:00\n",
      "Requirement already satisfied: requests in c:\\users\\juanj\\appdata\\local\\programs\\python\\python312\\lib\\site-packages (from humbug>=0.3.1->deeplake->hub) (2.31.0)\n",
      "Collecting botocore<1.35.0,>=1.34.140 (from boto3->deeplake->hub)\n",
      "  Downloading botocore-1.34.140-py3-none-any.whl.metadata (5.7 kB)\n",
      "Collecting jmespath<2.0.0,>=0.7.1 (from boto3->deeplake->hub)\n",
      "  Downloading jmespath-1.0.1-py3-none-any.whl.metadata (7.6 kB)\n",
      "Collecting s3transfer<0.11.0,>=0.10.0 (from boto3->deeplake->hub)\n",
      "  Downloading s3transfer-0.10.2-py3-none-any.whl.metadata (1.7 kB)\n",
      "Requirement already satisfied: colorama in c:\\users\\juanj\\appdata\\roaming\\python\\python312\\site-packages (from click->deeplake->hub) (0.4.6)\n",
      "Collecting ppft>=1.7.6.8 (from pathos->deeplake->hub)\n",
      "  Downloading ppft-1.7.6.8-py3-none-any.whl.metadata (12 kB)\n",
      "Collecting dill>=0.3.8 (from pathos->deeplake->hub)\n",
      "  Downloading dill-0.3.8-py3-none-any.whl.metadata (10 kB)\n",
      "Collecting pox>=0.3.4 (from pathos->deeplake->hub)\n",
      "  Downloading pox-0.3.4-py3-none-any.whl.metadata (8.0 kB)\n",
      "Collecting multiprocess>=0.70.16 (from pathos->deeplake->hub)\n",
      "  Downloading multiprocess-0.70.16-py312-none-any.whl.metadata (7.2 kB)\n",
      "Collecting annotated-types>=0.4.0 (from pydantic->deeplake->hub)\n",
      "  Downloading annotated_types-0.7.0-py3-none-any.whl.metadata (15 kB)\n",
      "Collecting pydantic-core==2.20.1 (from pydantic->deeplake->hub)\n",
      "  Downloading pydantic_core-2.20.1-cp312-none-win_amd64.whl.metadata (6.7 kB)\n",
      "Requirement already satisfied: typing-extensions>=4.6.1 in c:\\users\\juanj\\appdata\\local\\programs\\python\\python312\\lib\\site-packages (from pydantic->deeplake->hub) (4.11.0)\n",
      "Requirement already satisfied: python-dateutil<3.0.0,>=2.1 in c:\\users\\juanj\\appdata\\roaming\\python\\python312\\site-packages (from botocore<1.35.0,>=1.34.140->boto3->deeplake->hub) (2.8.2)\n",
      "Requirement already satisfied: urllib3!=2.2.0,<3,>=1.25.4 in c:\\users\\juanj\\appdata\\local\\programs\\python\\python312\\lib\\site-packages (from botocore<1.35.0,>=1.34.140->boto3->deeplake->hub) (2.2.1)\n",
      "Requirement already satisfied: charset-normalizer<4,>=2 in c:\\users\\juanj\\appdata\\local\\programs\\python\\python312\\lib\\site-packages (from requests->humbug>=0.3.1->deeplake->hub) (3.3.2)\n",
      "Requirement already satisfied: idna<4,>=2.5 in c:\\users\\juanj\\appdata\\local\\programs\\python\\python312\\lib\\site-packages (from requests->humbug>=0.3.1->deeplake->hub) (3.6)\n",
      "Requirement already satisfied: certifi>=2017.4.17 in c:\\users\\juanj\\appdata\\local\\programs\\python\\python312\\lib\\site-packages (from requests->humbug>=0.3.1->deeplake->hub) (2024.2.2)\n",
      "Requirement already satisfied: six>=1.5 in c:\\users\\juanj\\appdata\\roaming\\python\\python312\\site-packages (from python-dateutil<3.0.0,>=2.1->botocore<1.35.0,>=1.34.140->boto3->deeplake->hub) (1.16.0)\n",
      "Downloading hub-3.0.1-py3-none-any.whl (1.4 kB)\n",
      "Downloading humbug-0.3.2-py3-none-any.whl (15 kB)\n",
      "Downloading boto3-1.34.140-py3-none-any.whl (139 kB)\n",
      "   ---------------------------------------- 0.0/139.2 kB ? eta -:--:--\n",
      "   ---------------------------------------- 139.2/139.2 kB ? eta 0:00:00\n",
      "Downloading lz4-4.3.3-cp312-cp312-win_amd64.whl (99 kB)\n",
      "   ---------------------------------------- 0.0/99.8 kB ? eta -:--:--\n",
      "   ---------------------------------------- 99.8/99.8 kB 5.6 MB/s eta 0:00:00\n",
      "Downloading pathos-0.3.2-py3-none-any.whl (82 kB)\n",
      "   ---------------------------------------- 0.0/82.1 kB ? eta -:--:--\n",
      "   ---------------------------------------- 82.1/82.1 kB ? eta 0:00:00\n",
      "Downloading pydantic-2.8.2-py3-none-any.whl (423 kB)\n",
      "   ---------------------------------------- 0.0/423.9 kB ? eta -:--:--\n",
      "   --------------------------------------- 423.9/423.9 kB 25.9 MB/s eta 0:00:00\n",
      "Downloading pydantic_core-2.20.1-cp312-none-win_amd64.whl (1.9 MB)\n",
      "   ---------------------------------------- 0.0/1.9 MB ? eta -:--:--\n",
      "   ---------------------- ----------------- 1.1/1.9 MB 34.0 MB/s eta 0:00:01\n",
      "   --------------------------------- ------ 1.6/1.9 MB 16.8 MB/s eta 0:00:01\n",
      "   ---------------------------------------  1.9/1.9 MB 14.8 MB/s eta 0:00:01\n",
      "   ---------------------------------------- 1.9/1.9 MB 13.4 MB/s eta 0:00:00\n",
      "Downloading PyJWT-2.8.0-py3-none-any.whl (22 kB)\n",
      "Downloading annotated_types-0.7.0-py3-none-any.whl (13 kB)\n",
      "Downloading botocore-1.34.140-py3-none-any.whl (12.4 MB)\n",
      "   ---------------------------------------- 0.0/12.4 MB ? eta -:--:--\n",
      "   --- ------------------------------------ 1.0/12.4 MB 21.8 MB/s eta 0:00:01\n",
      "   ---- ----------------------------------- 1.3/12.4 MB 16.4 MB/s eta 0:00:01\n",
      "   ----- ---------------------------------- 1.6/12.4 MB 14.3 MB/s eta 0:00:01\n",
      "   ----- ---------------------------------- 1.7/12.4 MB 13.4 MB/s eta 0:00:01\n",
      "   ----- ---------------------------------- 1.7/12.4 MB 13.4 MB/s eta 0:00:01\n",
      "   ----- ---------------------------------- 1.7/12.4 MB 13.4 MB/s eta 0:00:01\n",
      "   -------- ------------------------------- 2.8/12.4 MB 9.8 MB/s eta 0:00:01\n",
      "   --------- ------------------------------ 3.0/12.4 MB 9.7 MB/s eta 0:00:01\n",
      "   ---------- ----------------------------- 3.3/12.4 MB 9.6 MB/s eta 0:00:01\n",
      "   ----------- ---------------------------- 3.6/12.4 MB 9.2 MB/s eta 0:00:01\n",
      "   ------------ --------------------------- 3.8/12.4 MB 8.9 MB/s eta 0:00:01\n",
      "   ------------ --------------------------- 3.8/12.4 MB 8.9 MB/s eta 0:00:01\n",
      "   ------------ --------------------------- 3.8/12.4 MB 8.9 MB/s eta 0:00:01\n",
      "   ------------ --------------------------- 4.0/12.4 MB 7.1 MB/s eta 0:00:02\n",
      "   -------------- ------------------------- 4.3/12.4 MB 7.1 MB/s eta 0:00:02\n",
      "   ----------------- ---------------------- 5.4/12.4 MB 8.6 MB/s eta 0:00:01\n",
      "   ----------------- ---------------------- 5.4/12.4 MB 8.6 MB/s eta 0:00:01\n",
      "   ----------------- ---------------------- 5.4/12.4 MB 8.6 MB/s eta 0:00:01\n",
      "   ------------------ --------------------- 5.6/12.4 MB 7.3 MB/s eta 0:00:01\n",
      "   -------------------- ------------------- 6.2/12.4 MB 7.8 MB/s eta 0:00:01\n",
      "   -------------------- ------------------- 6.3/12.4 MB 7.4 MB/s eta 0:00:01\n",
      "   ----------------------- ---------------- 7.2/12.4 MB 8.3 MB/s eta 0:00:01\n",
      "   ------------------------ --------------- 7.5/12.4 MB 8.2 MB/s eta 0:00:01\n",
      "   ------------------------- -------------- 7.9/12.4 MB 8.1 MB/s eta 0:00:01\n",
      "   -------------------------- ------------- 8.2/12.4 MB 8.1 MB/s eta 0:00:01\n",
      "   --------------------------- ------------ 8.4/12.4 MB 8.0 MB/s eta 0:00:01\n",
      "   ---------------------------- ----------- 8.8/12.4 MB 8.0 MB/s eta 0:00:01\n",
      "   ----------------------------- ---------- 9.1/12.4 MB 8.0 MB/s eta 0:00:01\n",
      "   ------------------------------ --------- 9.4/12.4 MB 8.0 MB/s eta 0:00:01\n",
      "   ------------------------------- -------- 9.7/12.4 MB 7.9 MB/s eta 0:00:01\n",
      "   -------------------------------- ------- 10.0/12.4 MB 8.0 MB/s eta 0:00:01\n",
      "   --------------------------------- ------ 10.3/12.4 MB 7.9 MB/s eta 0:00:01\n",
      "   ---------------------------------- ----- 10.7/12.4 MB 7.7 MB/s eta 0:00:01\n",
      "   ----------------------------------- ---- 10.9/12.4 MB 7.5 MB/s eta 0:00:01\n",
      "   ------------------------------------ --- 11.2/12.4 MB 7.4 MB/s eta 0:00:01\n",
      "   ------------------------------------- -- 11.5/12.4 MB 7.4 MB/s eta 0:00:01\n",
      "   -------------------------------------- - 11.8/12.4 MB 7.4 MB/s eta 0:00:01\n",
      "   -------------------------------------- - 12.0/12.4 MB 8.1 MB/s eta 0:00:01\n",
      "   ---------------------------------------  12.3/12.4 MB 7.9 MB/s eta 0:00:01\n",
      "   ---------------------------------------  12.3/12.4 MB 7.9 MB/s eta 0:00:01\n",
      "   ---------------------------------------- 12.4/12.4 MB 7.6 MB/s eta 0:00:00\n",
      "Downloading dill-0.3.8-py3-none-any.whl (116 kB)\n",
      "   ---------------------------------------- 0.0/116.3 kB ? eta -:--:--\n",
      "   ---------------------------------------- 116.3/116.3 kB 7.1 MB/s eta 0:00:00\n",
      "Downloading jmespath-1.0.1-py3-none-any.whl (20 kB)\n",
      "Downloading multiprocess-0.70.16-py312-none-any.whl (146 kB)\n",
      "   ---------------------------------------- 0.0/146.7 kB ? eta -:--:--\n",
      "   ---------------------------------------- 146.7/146.7 kB ? eta 0:00:00\n",
      "Downloading pox-0.3.4-py3-none-any.whl (29 kB)\n",
      "Downloading ppft-1.7.6.8-py3-none-any.whl (56 kB)\n",
      "   ---------------------------------------- 0.0/56.8 kB ? eta -:--:--\n",
      "   ---------------------------------------- 56.8/56.8 kB 2.9 MB/s eta 0:00:00\n",
      "Downloading s3transfer-0.10.2-py3-none-any.whl (82 kB)\n",
      "   ---------------------------------------- 0.0/82.7 kB ? eta -:--:--\n",
      "   ---------------------------------------- 82.7/82.7 kB ? eta 0:00:00\n",
      "Building wheels for collected packages: deeplake\n",
      "  Building wheel for deeplake (pyproject.toml): started\n",
      "  Building wheel for deeplake (pyproject.toml): finished with status 'done'\n",
      "  Created wheel for deeplake: filename=deeplake-3.9.12-py3-none-any.whl size=729488 sha256=b8a27e68358b1e203b13012a0f2851ec5643539f47e9eefcbfa60633c6e2cdb3\n",
      "  Stored in directory: c:\\users\\juanj\\appdata\\local\\pip\\cache\\wheels\\92\\67\\0f\\3ada0b15e577752bdd57d7d801ec8e37f4024a1707978ed0a1\n",
      "Successfully built deeplake\n",
      "Installing collected packages: pyjwt, pydantic-core, ppft, pox, lz4, jmespath, dill, annotated-types, pydantic, multiprocess, humbug, botocore, s3transfer, pathos, boto3, deeplake, hub\n",
      "Successfully installed annotated-types-0.7.0 boto3-1.34.140 botocore-1.34.140 deeplake-3.9.12 dill-0.3.8 hub-3.0.1 humbug-0.3.2 jmespath-1.0.1 lz4-4.3.3 multiprocess-0.70.16 pathos-0.3.2 pox-0.3.4 ppft-1.7.6.8 pydantic-2.8.2 pydantic-core-2.20.1 pyjwt-2.8.0 s3transfer-0.10.2\n"
     ]
    }
   ],
   "source": [
    "#!pip install hub\n",
    "#!pip install av\n",
    "#!pip install soundfile\n",
    "#!pip install pytube\n",
    "#!pip install yt_dlp"
   ]
  },
  {
   "cell_type": "code",
   "execution_count": 32,
   "metadata": {},
   "outputs": [],
   "source": [
    "import hub\n",
    "import numpy as np\n",
    "import matplotlib.pyplot as plt\n",
    "from IPython.display import Audio, display\n",
    "import soundfile as sf\n",
    "from pytube import YouTube\n",
    "from scipy.io.wavfile import read"
   ]
  },
  {
   "cell_type": "markdown",
   "metadata": {},
   "source": [
    "#### extraccion de audio de youtube"
   ]
  },
  {
   "cell_type": "code",
   "execution_count": 17,
   "metadata": {},
   "outputs": [
    {
     "data": {
      "text/plain": [
       "'c:\\\\Users\\\\juanj\\\\Documents\\\\github\\\\Procesamiento_y_clasificacion_de_datos\\\\Tareas\\\\Tarea_8\\\\Datos\\\\Timbre.wav'"
      ]
     },
     "execution_count": 17,
     "metadata": {},
     "output_type": "execute_result"
    }
   ],
   "source": [
    "url = 'https://www.youtube.com/watch?v=l7IFrF2ojKs'\n",
    "yt = YouTube(url)\n",
    "stream = yt.streams.filter(only_audio=True).first()\n",
    "stream.download(filename='Timbre.wav')\n"
   ]
  },
  {
   "cell_type": "code",
   "execution_count": null,
   "metadata": {},
   "outputs": [
    {
     "data": {
      "text/plain": [
       "'c:\\\\Users\\\\juanj\\\\Documents\\\\github\\\\Procesamiento_y_clasificacion_de_datos\\\\Tareas\\\\Tarea_8\\\\Datos\\\\sonidos_W.wav'"
      ]
     },
     "execution_count": 14,
     "metadata": {},
     "output_type": "execute_result"
    }
   ],
   "source": [
    "url = 'https://www.youtube.com/watch?v=LmpBSYIuYQ8'\n",
    "\n",
    "yt = YouTube(url)\n",
    "\n",
    "stream = yt.streams.filter(only_audio=True).first()\n",
    "stream.download(filename='sonidos_W.wav')"
   ]
  },
  {
   "cell_type": "code",
   "execution_count": 36,
   "metadata": {},
   "outputs": [],
   "source": [
    "import wave\n",
    "\n",
    "# Datos de audio en formato binario (reemplaza con tus datos)\n",
    "datos_binarios = b'sonidos_W.wav'  # Tus datos aquí\n",
    "\n",
    "# Configuración del archivo WAV\n",
    "canales = 1\n",
    "profundidad_bits = 16\n",
    "frecuencia_muestreo = 44100\n",
    "\n",
    "# Crear archivo WAV\n",
    "with wave.open(\"sonidos_Wriff.wav\", \"wb\") as archivo_wav:\n",
    "    archivo_wav.setnchannels(canales)\n",
    "    archivo_wav.setsampwidth(profundidad_bits // 8)\n",
    "    archivo_wav.setframerate(frecuencia_muestreo)\n",
    "    archivo_wav.writeframesraw(datos_binarios)\n"
   ]
  },
  {
   "cell_type": "code",
   "execution_count": 39,
   "metadata": {},
   "outputs": [
    {
     "name": "stdout",
     "output_type": "stream",
     "text": [
      "Frecuencia de muestreo: 44100 Hz\n",
      "Datos de audio (primeros 10 valores): [28531 26990 28516 24435 11863 24951]\n"
     ]
    }
   ],
   "source": [
    "from scipy.io import wavfile\n",
    "\n",
    "# Ruta al archivo WAV que deseas reproducir\n",
    "ruta_audio = \"sonidos_Wriff.wav\"\n",
    "\n",
    "# Leer el archivo WAV\n",
    "samplerate, data = wavfile.read(ruta_audio)\n",
    "\n",
    "print(f\"Frecuencia de muestreo: {samplerate} Hz\")\n",
    "print(f\"Datos de audio (primeros 10 valores): {data[:10]}\")"
   ]
  },
  {
   "cell_type": "code",
   "execution_count": 40,
   "metadata": {},
   "outputs": [
    {
     "name": "stdout",
     "output_type": "stream",
     "text": [
      "(=)sampling rate {} Hz 44100\n"
     ]
    }
   ],
   "source": [
    "audio1 ='sonidos_Wriff.wav'\n",
    "Fs,data=read(audio1)\n",
    "\n",
    "print('(=)sampling rate {} Hz',format(Fs))"
   ]
  },
  {
   "cell_type": "code",
   "execution_count": null,
   "metadata": {},
   "outputs": [
    {
     "name": "stdout",
     "output_type": "stream",
     "text": [
      "Muestra 1: Duración: 0.00 segundos\n",
      "Muestra 2: Duración: 0.01 segundos\n"
     ]
    },
    {
     "ename": "ValueError",
     "evalue": "'ya_no_me_alcanza_el_dinero.wav' is not a valid format string (unrecognized character 'a')",
     "output_type": "error",
     "traceback": [
      "\u001b[1;31m---------------------------------------------------------------------------\u001b[0m",
      "\u001b[1;31mValueError\u001b[0m                                Traceback (most recent call last)",
      "Cell \u001b[1;32mIn[33], line 11\u001b[0m\n\u001b[0;32m      8\u001b[0m plt\u001b[38;5;241m.\u001b[39mfigure(figsize\u001b[38;5;241m=\u001b[39m(\u001b[38;5;241m14\u001b[39m, \u001b[38;5;241m6\u001b[39m))\n\u001b[0;32m     10\u001b[0m plt\u001b[38;5;241m.\u001b[39msubplot(\u001b[38;5;241m2\u001b[39m, \u001b[38;5;241m1\u001b[39m, \u001b[38;5;241m1\u001b[39m)\n\u001b[1;32m---> 11\u001b[0m \u001b[43mplt\u001b[49m\u001b[38;5;241;43m.\u001b[39;49m\u001b[43mplot\u001b[49m\u001b[43m(\u001b[49m\u001b[43mnp\u001b[49m\u001b[38;5;241;43m.\u001b[39;49m\u001b[43mlinspace\u001b[49m\u001b[43m(\u001b[49m\u001b[38;5;241;43m0\u001b[39;49m\u001b[43m,\u001b[49m\u001b[43m \u001b[49m\u001b[38;5;28;43mlen\u001b[39;49m\u001b[43m(\u001b[49m\u001b[43marchivo_audio1\u001b[49m\u001b[43m)\u001b[49m\u001b[43m \u001b[49m\u001b[38;5;241;43m/\u001b[39;49m\u001b[43m \u001b[49m\u001b[43msr\u001b[49m\u001b[43m,\u001b[49m\u001b[43m \u001b[49m\u001b[38;5;28;43mlen\u001b[39;49m\u001b[43m(\u001b[49m\u001b[43marchivo_audio1\u001b[49m\u001b[43m)\u001b[49m\u001b[43m)\u001b[49m\u001b[43m,\u001b[49m\u001b[43m \u001b[49m\u001b[43marchivo_audio1\u001b[49m\u001b[43m)\u001b[49m\n\u001b[0;32m     12\u001b[0m plt\u001b[38;5;241m.\u001b[39mtitle(\u001b[38;5;124m'\u001b[39m\u001b[38;5;124mMuestra de Audio 1\u001b[39m\u001b[38;5;124m'\u001b[39m)\n\u001b[0;32m     13\u001b[0m plt\u001b[38;5;241m.\u001b[39mxlabel(\u001b[38;5;124m'\u001b[39m\u001b[38;5;124mTiempo (s)\u001b[39m\u001b[38;5;124m'\u001b[39m)\n",
      "File \u001b[1;32mc:\\Users\\juanj\\AppData\\Local\\Programs\\Python\\Python312\\Lib\\site-packages\\matplotlib\\pyplot.py:3590\u001b[0m, in \u001b[0;36mplot\u001b[1;34m(scalex, scaley, data, *args, **kwargs)\u001b[0m\n\u001b[0;32m   3582\u001b[0m \u001b[38;5;129m@_copy_docstring_and_deprecators\u001b[39m(Axes\u001b[38;5;241m.\u001b[39mplot)\n\u001b[0;32m   3583\u001b[0m \u001b[38;5;28;01mdef\u001b[39;00m \u001b[38;5;21mplot\u001b[39m(\n\u001b[0;32m   3584\u001b[0m     \u001b[38;5;241m*\u001b[39margs: \u001b[38;5;28mfloat\u001b[39m \u001b[38;5;241m|\u001b[39m ArrayLike \u001b[38;5;241m|\u001b[39m \u001b[38;5;28mstr\u001b[39m,\n\u001b[1;32m   (...)\u001b[0m\n\u001b[0;32m   3588\u001b[0m     \u001b[38;5;241m*\u001b[39m\u001b[38;5;241m*\u001b[39mkwargs,\n\u001b[0;32m   3589\u001b[0m ) \u001b[38;5;241m-\u001b[39m\u001b[38;5;241m>\u001b[39m \u001b[38;5;28mlist\u001b[39m[Line2D]:\n\u001b[1;32m-> 3590\u001b[0m     \u001b[38;5;28;01mreturn\u001b[39;00m \u001b[43mgca\u001b[49m\u001b[43m(\u001b[49m\u001b[43m)\u001b[49m\u001b[38;5;241;43m.\u001b[39;49m\u001b[43mplot\u001b[49m\u001b[43m(\u001b[49m\n\u001b[0;32m   3591\u001b[0m \u001b[43m        \u001b[49m\u001b[38;5;241;43m*\u001b[39;49m\u001b[43margs\u001b[49m\u001b[43m,\u001b[49m\n\u001b[0;32m   3592\u001b[0m \u001b[43m        \u001b[49m\u001b[43mscalex\u001b[49m\u001b[38;5;241;43m=\u001b[39;49m\u001b[43mscalex\u001b[49m\u001b[43m,\u001b[49m\n\u001b[0;32m   3593\u001b[0m \u001b[43m        \u001b[49m\u001b[43mscaley\u001b[49m\u001b[38;5;241;43m=\u001b[39;49m\u001b[43mscaley\u001b[49m\u001b[43m,\u001b[49m\n\u001b[0;32m   3594\u001b[0m \u001b[43m        \u001b[49m\u001b[38;5;241;43m*\u001b[39;49m\u001b[38;5;241;43m*\u001b[39;49m\u001b[43m(\u001b[49m\u001b[43m{\u001b[49m\u001b[38;5;124;43m\"\u001b[39;49m\u001b[38;5;124;43mdata\u001b[39;49m\u001b[38;5;124;43m\"\u001b[39;49m\u001b[43m:\u001b[49m\u001b[43m \u001b[49m\u001b[43mdata\u001b[49m\u001b[43m}\u001b[49m\u001b[43m \u001b[49m\u001b[38;5;28;43;01mif\u001b[39;49;00m\u001b[43m \u001b[49m\u001b[43mdata\u001b[49m\u001b[43m \u001b[49m\u001b[38;5;129;43;01mis\u001b[39;49;00m\u001b[43m \u001b[49m\u001b[38;5;129;43;01mnot\u001b[39;49;00m\u001b[43m \u001b[49m\u001b[38;5;28;43;01mNone\u001b[39;49;00m\u001b[43m \u001b[49m\u001b[38;5;28;43;01melse\u001b[39;49;00m\u001b[43m \u001b[49m\u001b[43m{\u001b[49m\u001b[43m}\u001b[49m\u001b[43m)\u001b[49m\u001b[43m,\u001b[49m\n\u001b[0;32m   3595\u001b[0m \u001b[43m        \u001b[49m\u001b[38;5;241;43m*\u001b[39;49m\u001b[38;5;241;43m*\u001b[39;49m\u001b[43mkwargs\u001b[49m\u001b[43m,\u001b[49m\n\u001b[0;32m   3596\u001b[0m \u001b[43m    \u001b[49m\u001b[43m)\u001b[49m\n",
      "File \u001b[1;32mc:\\Users\\juanj\\AppData\\Local\\Programs\\Python\\Python312\\Lib\\site-packages\\matplotlib\\axes\\_axes.py:1724\u001b[0m, in \u001b[0;36mAxes.plot\u001b[1;34m(self, scalex, scaley, data, *args, **kwargs)\u001b[0m\n\u001b[0;32m   1481\u001b[0m \u001b[38;5;250m\u001b[39m\u001b[38;5;124;03m\"\"\"\u001b[39;00m\n\u001b[0;32m   1482\u001b[0m \u001b[38;5;124;03mPlot y versus x as lines and/or markers.\u001b[39;00m\n\u001b[0;32m   1483\u001b[0m \n\u001b[1;32m   (...)\u001b[0m\n\u001b[0;32m   1721\u001b[0m \u001b[38;5;124;03m(``'green'``) or hex strings (``'#008000'``).\u001b[39;00m\n\u001b[0;32m   1722\u001b[0m \u001b[38;5;124;03m\"\"\"\u001b[39;00m\n\u001b[0;32m   1723\u001b[0m kwargs \u001b[38;5;241m=\u001b[39m cbook\u001b[38;5;241m.\u001b[39mnormalize_kwargs(kwargs, mlines\u001b[38;5;241m.\u001b[39mLine2D)\n\u001b[1;32m-> 1724\u001b[0m lines \u001b[38;5;241m=\u001b[39m [\u001b[38;5;241m*\u001b[39m\u001b[38;5;28mself\u001b[39m\u001b[38;5;241m.\u001b[39m_get_lines(\u001b[38;5;28mself\u001b[39m, \u001b[38;5;241m*\u001b[39margs, data\u001b[38;5;241m=\u001b[39mdata, \u001b[38;5;241m*\u001b[39m\u001b[38;5;241m*\u001b[39mkwargs)]\n\u001b[0;32m   1725\u001b[0m \u001b[38;5;28;01mfor\u001b[39;00m line \u001b[38;5;129;01min\u001b[39;00m lines:\n\u001b[0;32m   1726\u001b[0m     \u001b[38;5;28mself\u001b[39m\u001b[38;5;241m.\u001b[39madd_line(line)\n",
      "File \u001b[1;32mc:\\Users\\juanj\\AppData\\Local\\Programs\\Python\\Python312\\Lib\\site-packages\\matplotlib\\axes\\_base.py:303\u001b[0m, in \u001b[0;36m_process_plot_var_args.__call__\u001b[1;34m(self, axes, data, *args, **kwargs)\u001b[0m\n\u001b[0;32m    301\u001b[0m     this \u001b[38;5;241m+\u001b[39m\u001b[38;5;241m=\u001b[39m args[\u001b[38;5;241m0\u001b[39m],\n\u001b[0;32m    302\u001b[0m     args \u001b[38;5;241m=\u001b[39m args[\u001b[38;5;241m1\u001b[39m:]\n\u001b[1;32m--> 303\u001b[0m \u001b[38;5;28;01myield from\u001b[39;00m \u001b[38;5;28;43mself\u001b[39;49m\u001b[38;5;241;43m.\u001b[39;49m\u001b[43m_plot_args\u001b[49m\u001b[43m(\u001b[49m\n\u001b[0;32m    304\u001b[0m \u001b[43m    \u001b[49m\u001b[43maxes\u001b[49m\u001b[43m,\u001b[49m\u001b[43m \u001b[49m\u001b[43mthis\u001b[49m\u001b[43m,\u001b[49m\u001b[43m \u001b[49m\u001b[43mkwargs\u001b[49m\u001b[43m,\u001b[49m\u001b[43m \u001b[49m\u001b[43mambiguous_fmt_datakey\u001b[49m\u001b[38;5;241;43m=\u001b[39;49m\u001b[43mambiguous_fmt_datakey\u001b[49m\u001b[43m)\u001b[49m\n",
      "File \u001b[1;32mc:\\Users\\juanj\\AppData\\Local\\Programs\\Python\\Python312\\Lib\\site-packages\\matplotlib\\axes\\_base.py:449\u001b[0m, in \u001b[0;36m_process_plot_var_args._plot_args\u001b[1;34m(self, axes, tup, kwargs, return_kwargs, ambiguous_fmt_datakey)\u001b[0m\n\u001b[0;32m    446\u001b[0m \u001b[38;5;28;01mif\u001b[39;00m \u001b[38;5;28mlen\u001b[39m(tup) \u001b[38;5;241m>\u001b[39m \u001b[38;5;241m1\u001b[39m \u001b[38;5;129;01mand\u001b[39;00m \u001b[38;5;28misinstance\u001b[39m(tup[\u001b[38;5;241m-\u001b[39m\u001b[38;5;241m1\u001b[39m], \u001b[38;5;28mstr\u001b[39m):\n\u001b[0;32m    447\u001b[0m     \u001b[38;5;66;03m# xy is tup with fmt stripped (could still be (y,) only)\u001b[39;00m\n\u001b[0;32m    448\u001b[0m     \u001b[38;5;241m*\u001b[39mxy, fmt \u001b[38;5;241m=\u001b[39m tup\n\u001b[1;32m--> 449\u001b[0m     linestyle, marker, color \u001b[38;5;241m=\u001b[39m \u001b[43m_process_plot_format\u001b[49m\u001b[43m(\u001b[49m\n\u001b[0;32m    450\u001b[0m \u001b[43m        \u001b[49m\u001b[43mfmt\u001b[49m\u001b[43m,\u001b[49m\u001b[43m \u001b[49m\u001b[43mambiguous_fmt_datakey\u001b[49m\u001b[38;5;241;43m=\u001b[39;49m\u001b[43mambiguous_fmt_datakey\u001b[49m\u001b[43m)\u001b[49m\n\u001b[0;32m    451\u001b[0m \u001b[38;5;28;01melif\u001b[39;00m \u001b[38;5;28mlen\u001b[39m(tup) \u001b[38;5;241m==\u001b[39m \u001b[38;5;241m3\u001b[39m:\n\u001b[0;32m    452\u001b[0m     \u001b[38;5;28;01mraise\u001b[39;00m \u001b[38;5;167;01mValueError\u001b[39;00m(\u001b[38;5;124m'\u001b[39m\u001b[38;5;124mthird arg must be a format string\u001b[39m\u001b[38;5;124m'\u001b[39m)\n",
      "File \u001b[1;32mc:\\Users\\juanj\\AppData\\Local\\Programs\\Python\\Python312\\Lib\\site-packages\\matplotlib\\axes\\_base.py:197\u001b[0m, in \u001b[0;36m_process_plot_format\u001b[1;34m(fmt, ambiguous_fmt_datakey)\u001b[0m\n\u001b[0;32m    195\u001b[0m         i \u001b[38;5;241m+\u001b[39m\u001b[38;5;241m=\u001b[39m \u001b[38;5;241m2\u001b[39m\n\u001b[0;32m    196\u001b[0m     \u001b[38;5;28;01melse\u001b[39;00m:\n\u001b[1;32m--> 197\u001b[0m         \u001b[38;5;28;01mraise\u001b[39;00m \u001b[38;5;167;01mValueError\u001b[39;00m(\n\u001b[0;32m    198\u001b[0m             errfmt\u001b[38;5;241m.\u001b[39mformat(fmt, \u001b[38;5;124mf\u001b[39m\u001b[38;5;124m\"\u001b[39m\u001b[38;5;124munrecognized character \u001b[39m\u001b[38;5;132;01m{\u001b[39;00mc\u001b[38;5;132;01m!r}\u001b[39;00m\u001b[38;5;124m\"\u001b[39m))\n\u001b[0;32m    200\u001b[0m \u001b[38;5;28;01mif\u001b[39;00m linestyle \u001b[38;5;129;01mis\u001b[39;00m \u001b[38;5;28;01mNone\u001b[39;00m \u001b[38;5;129;01mand\u001b[39;00m marker \u001b[38;5;129;01mis\u001b[39;00m \u001b[38;5;28;01mNone\u001b[39;00m:\n\u001b[0;32m    201\u001b[0m     linestyle \u001b[38;5;241m=\u001b[39m mpl\u001b[38;5;241m.\u001b[39mrcParams[\u001b[38;5;124m'\u001b[39m\u001b[38;5;124mlines.linestyle\u001b[39m\u001b[38;5;124m'\u001b[39m]\n",
      "\u001b[1;31mValueError\u001b[0m: 'ya_no_me_alcanza_el_dinero.wav' is not a valid format string (unrecognized character 'a')"
     ]
    },
    {
     "data": {
      "image/png": "[encoded data removed]",
      "text/plain": [
       "<Figure size 1400x600 with 1 Axes>"
      ]
     },
     "metadata": {},
     "output_type": "display_data"
    }
   ],
   "source": [
    "\n",
    "sr = 8000\n",
    "\n",
    "# Mostrar información básica de las muestras\n",
    "print(f'Muestra 1: Duración: {len(archivo_audio1) / sr:.2f} segundos')\n",
    "print(f'Muestra 2: Duración: {len(archivo_audio2) / sr:.2f} segundos')\n",
    "\n",
    "# Visualizar las ondas de las muestras de audio\n",
    "plt.figure(figsize=(14, 6))\n",
    "\n",
    "plt.subplot(2, 1, 1)\n",
    "plt.plot(np.linspace(0, len(archivo_audio1) / sr, len(archivo_audio1)), archivo_audio1)\n",
    "plt.title('Muestra de Audio 1')\n",
    "plt.xlabel('Tiempo (s)')\n",
    "plt.ylabel('Amplitud')\n",
    "\n",
    "plt.subplot(2, 1, 2)\n",
    "plt.plot(np.linspace(0, len(archivo_audio2) / sr, len(archivo_audio2)), archivo_audio2)\n",
    "plt.title('Muestra de Audio 2')\n",
    "plt.xlabel('Tiempo (s)')\n",
    "plt.ylabel('Amplitud')\n",
    "\n",
    "plt.tight_layout()\n",
    "plt.show()"
   ]
  }
 ],
 "metadata": {
  "kernelspec": {
   "display_name": "Python 3",
   "language": "python",
   "name": "python3"
  },
  "language_info": {
   "codemirror_mode": {
    "name": "ipython",
    "version": 3
   },
   "file_extension": ".py",
   "mimetype": "text/x-python",
   "name": "python",
   "nbconvert_exporter": "python",
   "pygments_lexer": "ipython3",
   "version": "3.12.1"
  }
 },
 "nbformat": 4,
 "nbformat_minor": 2
}
